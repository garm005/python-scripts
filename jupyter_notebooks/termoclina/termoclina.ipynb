{
 "cells": [
  {
   "cell_type": "code",
   "execution_count": null,
   "id": "db362142",
   "metadata": {},
   "outputs": [],
   "source": [
    "\"\"\"\n",
    "Script que determina la profundidad en la cual se presenta\n",
    "la termoclina, a partir de datos medidos.\n",
    "\n",
    "Gabriel Ruiz\n",
    "\"\"\""
   ]
  },
  {
   "cell_type": "code",
   "execution_count": null,
   "id": "21cdf6a2",
   "metadata": {},
   "outputs": [],
   "source": [
    "# Importando los modulos\n",
    "import numpy as np\n",
    "from scipy import interpolate\n",
    "import matplotlib.pyplot as plt"
   ]
  },
  {
   "cell_type": "code",
   "execution_count": null,
   "id": "368eb222",
   "metadata": {},
   "outputs": [],
   "source": [
    "# Inputs\n",
    "t = np.array([22.8, 22.8, 22.8, 20.6, 13.9, 11.7, 11.1, 11.1])\n",
    "z = np.array([0, 2.3, 4.9, 9.1, 13.7, 18.3, 22.9, 27.2])"
   ]
  },
  {
   "cell_type": "markdown",
   "id": "cc49688c",
   "metadata": {},
   "source": [
    "Inspeccionado los datos\n",
    "=============================================================================\n",
    "fig, ax = plt.subplots(figsize=(4,6))\n",
    "ax.plot(t, z, linestyle='None', color='r', marker='o')\n",
    "plt.xlim([0, 30])\n",
    "plt.ylim([0, 30])\n",
    "ax.xaxis.set_label_position('top')\n",
    "ax.xaxis.set_ticks_position('top')\n",
    "ax.set_ylabel('Profundidad, [m]')\n",
    "ax.set_xlabel('Temperatura, [°C]')\n",
    "ax.set_ylim(ax.get_ylim()[::-1])\n",
    "plt.show()\n",
    "============================================================================="
   ]
  },
  {
   "cell_type": "code",
   "execution_count": null,
   "id": "9427600c",
   "metadata": {},
   "outputs": [],
   "source": [
    "# Interpolando la temperatura utilizando B-splines\n",
    "temp = interpolate.splrep(z, t, s=0)\n",
    "zRnew = np.arange(0, 30, 0.01)\n",
    "tnew = interpolate.splev(zRnew, temp, der=0)"
   ]
  },
  {
   "cell_type": "code",
   "execution_count": null,
   "id": "f843593e",
   "metadata": {},
   "outputs": [],
   "source": [
    "# Calculando la primera derivada por diferencias finitas (ver Nieves)\n",
    "dy = np.diff(tnew, 1)\n",
    "dx = np.diff(zRnew, 1)\n",
    "xprime = (1./2)*(zRnew[:-1] + zRnew[1:])\n",
    "tgrad = dy/dx"
   ]
  },
  {
   "cell_type": "code",
   "execution_count": null,
   "id": "c70de2ad",
   "metadata": {},
   "outputs": [],
   "source": [
    "# Calculando la segunda derivada\n",
    "dyp = np.diff(tgrad, 1)\n",
    "dxp = np.diff(xprime, 1)\n",
    "tbiprime = dyp/dxp"
   ]
  },
  {
   "cell_type": "code",
   "execution_count": null,
   "id": "99b7ba8e",
   "metadata": {},
   "outputs": [],
   "source": [
    "# Conociendo el valor max absoluto de la 1era derivada que nos indica la termoclina\n",
    "termo = np.abs(tgrad).max()"
   ]
  },
  {
   "cell_type": "code",
   "execution_count": null,
   "id": "edb4421e",
   "metadata": {},
   "outputs": [],
   "source": [
    "# Ubicando el indice donde se encuentra el valor max abs de la 1era derivada\n",
    "indx = np.where(np.abs(tgrad) == termo)"
   ]
  },
  {
   "cell_type": "code",
   "execution_count": null,
   "id": "2b237ba1",
   "metadata": {},
   "outputs": [],
   "source": [
    "# Almacenando en variable la profundidad de la termoclina\n",
    "ztermo = float(zRnew[indx[0]])"
   ]
  },
  {
   "cell_type": "code",
   "execution_count": null,
   "id": "4b5df8f4",
   "metadata": {},
   "outputs": [],
   "source": [
    "# Almacenando en variable la temperatura donde se presenta la termoclina\n",
    "ttermo = round(float(tnew[indx[0]])*100)/100"
   ]
  },
  {
   "cell_type": "code",
   "execution_count": null,
   "id": "ca027bfb",
   "metadata": {},
   "outputs": [],
   "source": [
    "# Almacenando en variable el gradiente de Temperatura donde se presenta la termoclina\n",
    "# y redondeando a 2 cifras sig.\n",
    "tg = round(float(tgrad[indx[0]])*100)/100"
   ]
  },
  {
   "cell_type": "code",
   "execution_count": null,
   "id": "49461f40",
   "metadata": {},
   "outputs": [],
   "source": [
    "# Almacenando en variable el gradiente de Temperatura donde se presenta la termoclina\n",
    "# y redondeando a 2 cifras sig.\n",
    "tgg = round(float(tbiprime[indx[0]])*100)/100"
   ]
  },
  {
   "cell_type": "code",
   "execution_count": null,
   "id": "27809d1a",
   "metadata": {},
   "outputs": [],
   "source": [
    "print('La profundidad de la termoclina es: ', ztermo, 'm')\n",
    "print('La temperatura donde se presenta la termoclina es:', ttermo, '°C')\n",
    "print('el gradiente de temperatura en esa profundidad es de:', tg, '°C/m')\n",
    "print('y el valor de la 2da derivada donde se define la termoclina es:', tgg)"
   ]
  },
  {
   "cell_type": "code",
   "execution_count": null,
   "id": "887cf525",
   "metadata": {},
   "outputs": [],
   "source": [
    "# Graficando\n",
    "fig2, (ax2, ax3, ax4) = plt.subplots(1, 3, sharey=True)\n",
    "ax2.plot(tnew[0:-1:100], zRnew[0:-1:100], linestyle=':', color='b', marker='+', label='Interpolacion')\n",
    "ax2.plot(t, z, linestyle='None', color='k', marker='o', label='medidos')\n",
    "ax2.set_ylabel('Profundidad, z, [m]')\n",
    "ax2.set_ylim(ax2.get_ylim()[::-1]) \n",
    "ax2.set_xlabel('Temperatura, T, [°C]')\n",
    "ax2.xaxis.set_label_position('top') \n",
    "ax2.xaxis.set_ticks_position('top') \n",
    "ax2.legend(loc=8, fontsize='x-small')"
   ]
  },
  {
   "cell_type": "code",
   "execution_count": null,
   "id": "df6df859",
   "metadata": {},
   "outputs": [],
   "source": [
    "ax3.plot(tgrad[0:-1:100], zRnew[0:-1:100], linestyle='-', color='r', marker='o')\n",
    "ax3.set_xlabel('dT/dz' + ' (gradiente)')\n",
    "ax3.xaxis.set_label_position('top')\n",
    "ax3.xaxis.set_ticks_position('top')\n",
    "ax3.yaxis.set_visible(True)\n",
    "#pt1, pt2 = [0, -float(zRnew[indx[0]])] , [float(tgrad[indx[0]]), -float(zRnew[indx[0]])]\n",
    "#ax3.plot(pt2, pt1, linestyle=':', color='k' )"
   ]
  },
  {
   "cell_type": "code",
   "execution_count": null,
   "id": "c8513f65",
   "metadata": {
    "lines_to_next_cell": 2
   },
   "outputs": [],
   "source": [
    "ax4.plot(tbiprime[0:-1:100], zRnew[0:-1:100], linestyle='-', color='g', marker='o')\n",
    "ax4.set_xlabel(r'$dT^2/dz^2$')\n",
    "ax4.xaxis.set_label_position('top')\n",
    "ax4.xaxis.set_ticks_position('top')\n",
    "ax4.yaxis.set_visible(True)\n",
    "plt.show()"
   ]
  }
 ],
 "metadata": {
  "jupytext": {
   "cell_metadata_filter": "-all",
   "main_language": "python",
   "notebook_metadata_filter": "-all"
  },
  "kernelspec": {
   "display_name": "Python 3 (ipykernel)",
   "language": "python",
   "name": "python3"
  },
  "language_info": {
   "codemirror_mode": {
    "name": "ipython",
    "version": 3
   },
   "file_extension": ".py",
   "mimetype": "text/x-python",
   "name": "python",
   "nbconvert_exporter": "python",
   "pygments_lexer": "ipython3",
   "version": "3.8.8"
  }
 },
 "nbformat": 4,
 "nbformat_minor": 5
}
