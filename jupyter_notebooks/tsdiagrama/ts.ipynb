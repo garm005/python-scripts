{
 "cells": [
  {
   "cell_type": "markdown",
   "id": "7fed7cd7-b587-4bfc-9088-a0154f211925",
   "metadata": {},
   "source": [
    "# Diagramas T-S (Temperatura Salinidad)"
   ]
  },
  {
   "cell_type": "markdown",
   "id": "a428d3e5-d21e-4bcb-9695-7ae69ee8279d",
   "metadata": {},
   "source": [
    "En Oceanografía es común relacionar dos párametros registrados de manera simultánea. Helland-Hansen en 1918 (citado por Thompson y Emery, 2014) fue el primero en sugerir la utilidad de un diagrama donde se graficara la temperatura (T) en contra de la salinidad (S); encontró que los diagramas TS eran similares en grandes áreas del océano y en muchos lugares, permanecían constantes en el tiempo.\n",
    "\n",
    "Como originalmente fueron concebidos, los diagramas característicos como los diagramas TS son fáciles de realizar. Las curvas *TS exhiben una relación única entre la temperatura, salinidad y profundidad*. La curva tradicional TS es una parte de la familia de curvas que relacionan variables medidas in situ, como la temperatura, salinidad y densidad (\\$\\sigma_t$) o anomalías termoestéricas (\\\\(\\Delta_{S,T}\\\\)). La curvatura de esas líneas es ocasionada por el comportamiento nolineal de la ecuación de estado del océano. En un lance de CTD, el diagrama TS, muestra la estabilidad de la columna de agua y por ello puede evaluarse de manera sencilla. A menos que sean en regiones inestables, la densidad deberá incrementarse con la profundidad sobre la curva TS. El análisis de las curvas TS puede vislumbrar importantes procesos de mezclado y advección.\n",
    "\n",
    "Las dos principales razones por las cuales los diagramas TS son considerados como una poderosa herramienta, para identificar y seguir las masas de agua, son: 1) la temperatura y salinidad son fáciles de medir y 2) en el momento que el agua deja de estar en contacto con la atmósfera, el mezclado del agua cambiará según la temperatura y salinidad. Por esta última razón, <i>T</i> y <i>S</i> se consideran como **propiedades conservativas**.\n",
    "\n",
    "En los diagramas TS, los contornos representan líneas de igual densidad y sus valores son los de (\\$\\sigma_t$). Estos valores de expresan la densidad de una muestra (o registro) de agua de mar a presión atmosférica, que es determinada a partir de su temperatura que fue medida in-situ y su salinidad. En algunas ocasiones, \\\\(\\sigma_t\\\\) se denomina como densidad anómala.\n",
    "\n",
    "Referencias:<br>\n",
    "Thompson, R y Emery, W. 2014. <i>Data analysis methods in Physical Oceanography</i>. Elservier. Amsterdam. 729 p.<br>\n",
    "Open University. 2004. <i>Seawater: its composition, properties and behavior</i>. Butterworth-Heinemann. Singapure. 173 p.<br>\n",
    "\n",
    "Gabriel Ruiz"
   ]
  },
  {
   "cell_type": "markdown",
   "id": "510ee030-39bd-45b7-bd45-abe34efc9e35",
   "metadata": {},
   "source": [
    "## Creación de un diagrama TS"
   ]
  },
  {
   "cell_type": "markdown",
   "id": "79c25e04-6dd9-4544-9537-e1ba3cb584a3",
   "metadata": {},
   "source": [
    "A continuación vamos a generar un diagrama TS con datos \"in-situ\" del Puerto de Manzanillo, obtenidos en el mes de octubre del 2021, por el Dr. Rubén Morales y Gabriel Ruiz (fig. 1). La temperatura, salinidad y densidad fueron registrados por un CTD CastAway, Sontek. Este pequeño dispositivo puede obtener perfiles hasta una profundidad de 100 m. LA precisión de la salinidad y temperatura es de 0.1 PSU y 0.05 °C, respectivamente; su frecuencia de muestreo es de 5 Hz y posee un sensor de GPS, así como puede conectarse de manera inalámbrica a otros dispositivos. Posee una pantalla que permite visualizar en tiempo real los datos recolectados. Una de las características del dispositivo es que los datos registrados se exportan a un archivo *.mat (archivo de datos para Matlab)."
   ]
  },
  {
   "cell_type": "markdown",
   "id": "bfb72ef7-6abd-4e1d-a814-37a3f319ef1e",
   "metadata": {},
   "source": [
    "<img src=\"IMG_1618.JPG\" width=300 height=300 /> <br> Figura 1. El Dr. Morales haciendo descender el **CTD CastAway** en el Puerto de Manzanillo, Col."
   ]
  },
  {
   "cell_type": "markdown",
   "id": "30549a95-1092-4707-a08b-7ead8b2beadf",
   "metadata": {},
   "source": [
    "El primer paso a realizar es cargar los módulos de Python que requerímos:"
   ]
  },
  {
   "cell_type": "code",
   "execution_count": 1,
   "id": "aff83bb7-5328-456f-95be-fb9305319641",
   "metadata": {},
   "outputs": [],
   "source": [
    "import numpy as np\n",
    "import scipy.io as sio\n",
    "import matplotlib.pyplot as plt\n",
    "import gsw\n",
    "import simplekml"
   ]
  },
  {
   "cell_type": "markdown",
   "id": "b75abf9d-28d1-41c0-838e-70dc797dd8e4",
   "metadata": {},
   "source": [
    "Vamos a cargar los datos almacenados en el archivo mat en Python."
   ]
  },
  {
   "cell_type": "code",
   "execution_count": 2,
   "id": "473678b9-167c-4047-afd9-3e1eb81cc7de",
   "metadata": {},
   "outputs": [],
   "source": [
    "inputfile = 'CC1739001_20211019_143447.mat'\n",
    "datos = sio.loadmat(inputfile)"
   ]
  },
  {
   "cell_type": "markdown",
   "id": "1c1c032c-4cbb-47de-8f4c-338f82555964",
   "metadata": {},
   "source": [
    "Recuerda identificar el tipo de variable o en su caso el objeto donde se almacenaron los datos. En este caso SciPy, almacena los datos de un archivo mat en un diccionario. A continuación vamos a guardar en variables los parámetros que nos interesan, que son la temperatura (T) y la salinidad (S)."
   ]
  },
  {
   "cell_type": "code",
   "execution_count": 3,
   "id": "84456e2d-5f55-420a-805e-91dddaa9c54b",
   "metadata": {},
   "outputs": [],
   "source": [
    "temp = datos['Temperature']\n",
    "sali = datos['Salinity']\n",
    "z = datos['Depth']\n",
    "lat = datos['LatitudeStart']\n",
    "lon = datos['LongitudeStart']"
   ]
  },
  {
   "cell_type": "markdown",
   "id": "a384ca0e-7d2e-4065-a004-482447e55ee5",
   "metadata": {},
   "source": [
    "Para establecer los rangos en los cuales vamos a graficar los valores de T y S, calculemos los valores máximos y mínimos de cada párametro."
   ]
  },
  {
   "cell_type": "code",
   "execution_count": 4,
   "id": "e7a0daff-6155-472f-8788-2f9614fb4a5f",
   "metadata": {},
   "outputs": [],
   "source": [
    "prescS = 1./100\n",
    "prescT = 1./10\n",
    "\n",
    "smin = sali.min() - (prescS * sali.min())\n",
    "smax = sali.max() + (prescS * sali.max())\n",
    "\n",
    "tmin = temp.min() - (prescT * temp.max())\n",
    "tmax = temp.max() + (prescT * temp.max())"
   ]
  },
  {
   "cell_type": "markdown",
   "id": "d8f845b0-86f8-4085-8a10-d4dcdd7b254a",
   "metadata": {},
   "source": [
    "Obteniendo el número de nodos que requieren para representar el rango de cada parámetro:"
   ]
  },
  {
   "cell_type": "code",
   "execution_count": 5,
   "id": "369faf94-eb3d-4f31-a10f-2e647cfc808b",
   "metadata": {},
   "outputs": [],
   "source": [
    "snodes = int(round((smax-smin)/0.1 + 1, 0))\n",
    "tnodes = int(round((tmax-tmin) + 1, 0))"
   ]
  },
  {
   "cell_type": "markdown",
   "id": "107751ce-303e-438e-825e-81304a1506e5",
   "metadata": {},
   "source": [
    "Dimensionando la variable donde vamos a calcular la densidad absoluta:"
   ]
  },
  {
   "cell_type": "code",
   "execution_count": 6,
   "id": "34a7a5a5-d062-4c40-82d7-1c406f7bd297",
   "metadata": {},
   "outputs": [],
   "source": [
    "rhoabs = np.zeros((tnodes, snodes))"
   ]
  },
  {
   "cell_type": "markdown",
   "id": "e91d626a-9b7e-47bd-a931-80f86ec4bf96",
   "metadata": {},
   "source": [
    "Construyendo los vectores a partir de cual vamos crear la matriz con los valores de la densidad absoluta:"
   ]
  },
  {
   "cell_type": "code",
   "execution_count": 7,
   "id": "bb218acb-dece-4f32-8d78-81f57e470fbc",
   "metadata": {},
   "outputs": [],
   "source": [
    "tem = np.linspace(1, tnodes-1, tnodes) + tmin\n",
    "sal = np.linspace(1, snodes-1, snodes)*0.1 + smin"
   ]
  },
  {
   "cell_type": "markdown",
   "id": "328ba6bb-97e3-4028-b7c3-05b3fba2b8c8",
   "metadata": {},
   "source": [
    "Utilizando el módulo de <i>gsw</i> vamos a calcular la densidad anómala con la salinidad, temperatura y la presión:"
   ]
  },
  {
   "cell_type": "code",
   "execution_count": 8,
   "id": "09d2879a-6583-400e-9247-00ecdc7fc6d6",
   "metadata": {},
   "outputs": [],
   "source": [
    "for j in range(0, int(tnodes)):\n",
    "    for i in range(0, int(snodes)):\n",
    "        rhoabs[j, i] = gsw.rho(sal[i], tem[j], 0)"
   ]
  },
  {
   "cell_type": "markdown",
   "id": "24c6f26f-3685-431e-903b-e42bcc878c6c",
   "metadata": {},
   "source": [
    "Obteniendo el parámetro \\\\(\\sigma_t\\\\):"
   ]
  },
  {
   "cell_type": "code",
   "execution_count": 9,
   "id": "87752457-c58c-4726-9f05-0caf73de09c7",
   "metadata": {},
   "outputs": [],
   "source": [
    "rhoabs = rhoabs - 1000"
   ]
  },
  {
   "cell_type": "markdown",
   "id": "b0277f44-3117-43bf-bdba-e498cf7e31f7",
   "metadata": {},
   "source": [
    "Graficando la Salinidad y Temperatura vs Profundidad:"
   ]
  },
  {
   "cell_type": "code",
   "execution_count": 10,
   "id": "a70b385b-71cc-48c9-9783-4d3500f5427e",
   "metadata": {},
   "outputs": [
    {
     "data": {
      "image/png": "[encoded data removed]",
      "text/plain": [
       "<Figure size 432x288 with 2 Axes>"
      ]
     },
     "metadata": {
      "needs_background": "light"
     },
     "output_type": "display_data"
    }
   ],
   "source": [
    "_, (ax1, ax2) = plt.subplots(1, 2, sharey=True)\n",
    "ax1.plot(temp, z, '-r', marker='h', markerfacecolor='red', markeredgecolor='k')\n",
    "ax1.set_ylim(ax1.get_ylim()[::-1])\n",
    "ax1.set_ylabel('Profundidad, [m]')\n",
    "ax1.set_xlabel('Temperatura, [°C]')\n",
    "ax1.xaxis.set_label_position('top') \n",
    "ax1.xaxis.set_ticks_position('top') \n",
    "\n",
    "ax2.plot(sali, z, '-b', marker='h', markerfacecolor='blue', markeredgecolor='k')\n",
    "ax2.set_xlabel('Salinidad, [uS]')\n",
    "ax2.xaxis.set_label_position('top') \n",
    "ax2.xaxis.set_ticks_position('top') \n",
    "ax2.yaxis.set_visible(True) \n",
    "#plt.show()\n",
    "plt.savefig('TvDSvD.png')"
   ]
  },
  {
   "cell_type": "markdown",
   "id": "74d808c2-c7f1-49f9-af31-9bcc28c24474",
   "metadata": {},
   "source": [
    "Graficando el diagrama TS:"
   ]
  },
  {
   "cell_type": "code",
   "execution_count": 11,
   "id": "948e8336-d14d-4852-9212-4b418cf59734",
   "metadata": {},
   "outputs": [
    {
     "data": {
      "image/png": "[encoded data removed]",
      "text/plain": [
       "<Figure size 432x288 with 1 Axes>"
      ]
     },
     "metadata": {
      "needs_background": "light"
     },
     "output_type": "display_data"
    }
   ],
   "source": [
    "fig1 = plt.figure()\n",
    "ax1 = fig1.add_subplot(111)\n",
    "hc = plt.contour(sal, tem, rhoabs, linestyles=':', colors='b')\n",
    "plt.clabel(hc, fontsize=10, inline=1, fmt='%1.2f')\n",
    "  \n",
    "ax1.plot(sali, temp, linestyle='None', marker='o', color='r', markersize=9, markeredgecolor='k')\n",
    "  \n",
    "ax1.set_xlabel('Salinidad, [uS]')\n",
    "ax1.set_ylabel('Temperatura, [°C]')\n",
    "#plt.show()\n",
    "plt.savefig('diaTS.png')"
   ]
  },
  {
   "cell_type": "markdown",
   "id": "585ed757",
   "metadata": {},
   "source": [
    "Exportando los ubicación del perfil a un archivo *.kml de Google Earth..."
   ]
  },
  {
   "cell_type": "code",
   "execution_count": 12,
   "id": "8f4b7431",
   "metadata": {},
   "outputs": [],
   "source": [
    "kmlfile = simplekml.Kml()\n",
    "kmlfile.newpoint(name='PuntoCTD', coords=[(float(lon), float(lat))])\n",
    "kmlfile.save('PuntoCTD.kml')"
   ]
  }
 ],
 "metadata": {
  "kernelspec": {
   "display_name": "Python 3 (ipykernel)",
   "language": "python",
   "name": "python3"
  },
  "language_info": {
   "codemirror_mode": {
    "name": "ipython",
    "version": 3
   },
   "file_extension": ".py",
   "mimetype": "text/x-python",
   "name": "python",
   "nbconvert_exporter": "python",
   "pygments_lexer": "ipython3",
   "version": "3.8.13"
  }
 },
 "nbformat": 4,
 "nbformat_minor": 5
}
