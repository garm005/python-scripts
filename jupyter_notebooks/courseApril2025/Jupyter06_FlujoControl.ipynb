{
 "cells": [
  {
   "cell_type": "markdown",
   "id": "3771c7fa-84ff-4901-94a9-69eef8cf7c8e",
   "metadata": {},
   "source": [
    "# Flujo de control en Python"
   ]
  },
  {
   "cell_type": "markdown",
   "id": "fca5d74c-ef47-48a8-8348-eb93b488e496",
   "metadata": {},
   "source": [
    "### Operadores relacionales"
   ]
  },
  {
   "cell_type": "code",
   "execution_count": null,
   "id": "4ebfdfeb-7dea-44a9-9cca-5a9246233738",
   "metadata": {},
   "outputs": [],
   "source": [
    "#Hay que recordar que PYthon el operador de asignacion es el simbolo de igualdad \"=\" que usamos generalmente en las operaciones aritméticas que nos enseñaron en nuestros cursos básicos de matemáticas.\n",
    "iva = 16\n",
    "pi = 3.1416\n",
    "retencion = 25\n",
    "print(f'La variable iva almacena el valor de: {iva}')\n",
    "print(f'La variable pi almacena el valor de: {pi}')\n",
    "print(f'La variable retencion almacena el valor de: {retencion}')"
   ]
  },
  {
   "cell_type": "markdown",
   "id": "bbd49bc3-ef00-43bc-97f5-4f12a2cc0617",
   "metadata": {},
   "source": [
    "## Operador de Igualdad"
   ]
  },
  {
   "cell_type": "code",
   "execution_count": null,
   "id": "1519982c-2c9a-4eaf-8cb1-3037424f2627",
   "metadata": {},
   "outputs": [],
   "source": [
    "# En Python el operador relacional de igualdad se representa con dos simbolos de igualdad\n",
    "print(3 == 3)"
   ]
  },
  {
   "cell_type": "code",
   "execution_count": null,
   "id": "760952e5-919c-4034-886b-5a2312a369f0",
   "metadata": {},
   "outputs": [],
   "source": [
    "print(100 == 56)"
   ]
  },
  {
   "cell_type": "code",
   "execution_count": null,
   "id": "be8435ad-8aa2-4e31-ba23-b6ba716f2fb3",
   "metadata": {},
   "outputs": [],
   "source": [
    "print(12 == 34)"
   ]
  },
  {
   "cell_type": "markdown",
   "id": "2ac63265-4825-4e4b-b3e9-172a9e0a518a",
   "metadata": {},
   "source": [
    "## Operador de desigualdad"
   ]
  },
  {
   "cell_type": "code",
   "execution_count": null,
   "id": "5232ef87-9060-4183-9348-8806394235e5",
   "metadata": {},
   "outputs": [],
   "source": [
    "# En Python, el operador de desigualdad es un signo de admiracion (!) con uno de igualdad (=). Por ejemplo en Matlab ~=\n",
    "print(5 != 2)"
   ]
  },
  {
   "cell_type": "code",
   "execution_count": null,
   "id": "b5d1127d-a82f-422e-a3e9-03c7ce556250",
   "metadata": {},
   "outputs": [],
   "source": [
    "print(5 != 5)"
   ]
  },
  {
   "cell_type": "markdown",
   "id": "97696fe1-9aec-44d7-9552-eb08af498486",
   "metadata": {},
   "source": [
    "## Operador menor o igual que"
   ]
  },
  {
   "cell_type": "code",
   "execution_count": null,
   "id": "7117b90c-30d3-4eb3-8413-31741ea71585",
   "metadata": {},
   "outputs": [],
   "source": [
    "# El operador de menor o igual que, utilizamos el simbolo de menor (<) con uno de igualdad (=)\n",
    "print(356 <= 1000)"
   ]
  },
  {
   "cell_type": "code",
   "execution_count": null,
   "id": "67634e69-f00b-4822-8f90-5966f017436d",
   "metadata": {},
   "outputs": [],
   "source": [
    "print(-1 <= -3)"
   ]
  },
  {
   "cell_type": "markdown",
   "id": "5943d345-0a56-471f-8123-1acf42487e10",
   "metadata": {},
   "source": [
    "### Operado menor que"
   ]
  },
  {
   "cell_type": "code",
   "execution_count": null,
   "id": "4d78b89f-9f0d-496c-a2fe-3f71fe1057ad",
   "metadata": {},
   "outputs": [],
   "source": [
    "print(78 < 389)"
   ]
  },
  {
   "cell_type": "code",
   "execution_count": null,
   "id": "5308162a-b171-413e-803b-8c05b91868f0",
   "metadata": {},
   "outputs": [],
   "source": [
    "print(34 < 20)"
   ]
  },
  {
   "cell_type": "markdown",
   "id": "63fa4673-81fd-49d4-be67-1f1c3271708a",
   "metadata": {},
   "source": [
    "### Operador mayor o igual que"
   ]
  },
  {
   "cell_type": "code",
   "execution_count": null,
   "id": "33a10cb8-72d2-4e05-8e0e-5528437444a2",
   "metadata": {},
   "outputs": [],
   "source": [
    "print(10 >= 9)"
   ]
  },
  {
   "cell_type": "code",
   "execution_count": null,
   "id": "24c5aa76-6863-4b4e-93cb-2a02c32ab89e",
   "metadata": {},
   "outputs": [],
   "source": [
    "print(45 >= 89)"
   ]
  },
  {
   "cell_type": "markdown",
   "id": "2f583fc4-6148-420f-b841-9b2f604fea50",
   "metadata": {},
   "source": [
    "### Operador mayor que"
   ]
  },
  {
   "cell_type": "code",
   "execution_count": null,
   "id": "e92eae07-64c5-470c-a88c-2d1fa4dbeeff",
   "metadata": {},
   "outputs": [],
   "source": [
    "print(67 > 50)"
   ]
  },
  {
   "cell_type": "code",
   "execution_count": null,
   "id": "60b654f5-1f2d-45a1-b1a9-85e33d307271",
   "metadata": {},
   "outputs": [],
   "source": [
    "print(90 > 123)"
   ]
  },
  {
   "cell_type": "markdown",
   "id": "f8e85e86-1008-48ba-bc95-fc8fc57d3d32",
   "metadata": {},
   "source": [
    "## Ciclo iterativo While\n",
    "\n",
    "Cuando hacemos el análisis de nuestros datos, en algunas ocasiones es necesario filtrar la información por medio de expresiones relacionales, donde se evalua si éstas son verdaderas o falsas y a partir de ello, continuar con el análisis de datos."
   ]
  },
  {
   "cell_type": "code",
   "execution_count": null,
   "id": "9ac0c5f5-f4d8-4bfd-8ae3-f1ded4e30d83",
   "metadata": {},
   "outputs": [],
   "source": [
    "ti = 2007\n",
    "dt = 1\n",
    "tf = 2025\n",
    "while ti <= tf:\n",
    "    print('Year %4d' %ti)\n",
    "    ti += dt    # La expresion ti += dt es igual a usar ti = ti + dt\n",
    "\n",
    "print('Ultimo valor de ti = {}'.format(ti))\n",
    "print('La expresión ti <= tf es:',(ti<=tf))"
   ]
  },
  {
   "cell_type": "markdown",
   "id": "478765c9-60c5-4e40-89e8-40766d403e4e",
   "metadata": {},
   "source": [
    "# Ciclo iterativo for\n",
    "Este ciclo lo utilizamos cuando sabemos el numero de iteraciones que deseamos que un bloque de instrucciones se realice."
   ]
  },
  {
   "cell_type": "code",
   "execution_count": null,
   "id": "e3d6481d-a33b-4e5e-8879-72c6a0581bb5",
   "metadata": {},
   "outputs": [],
   "source": [
    "a = [23, 45, 67, 78]\n",
    "for i in a:\n",
    "    print(i)\n",
    "\n",
    "print(a)"
   ]
  },
  {
   "cell_type": "code",
   "execution_count": null,
   "id": "00ddbeab-06ff-4451-a3fb-1a3cdfd23788",
   "metadata": {},
   "outputs": [],
   "source": [
    "insulina = 'GIVEQCCTSICSLYQLENYCNFVQHLCGSHLVEALYLVCGERGFFYTPKT'\n",
    "for aminoacido in 'ABCDEFGHIJKLMNOPQRSTUVWXYZ':\n",
    "    n = insulina.count(aminoacido)\n",
    "    print(aminoacido, n)"
   ]
  },
  {
   "cell_type": "markdown",
   "id": "8a5eec09-acf4-46b1-814d-9b3ac9ee332e",
   "metadata": {},
   "source": [
    "### Función range\n",
    "\n",
    "La funcion range la usamos para generar una secuencia de números. La funcion `range(n)` genera números enteros desde 0, 1, 2, 3, ... **n-1*.*<br>\n",
    "Si usamos `range(inicio, final, incremento)` se obtiene una secuencia que inicia con el valor de inicio, el siguiente valor es inicio + incremento y de esta manera continua la secuencia hasta alcanzar el valor final. Pero no se incluye el valor final."
   ]
  },
  {
   "cell_type": "code",
   "execution_count": null,
   "id": "bc51af1a-0414-458d-92c2-e8b056ec839b",
   "metadata": {},
   "outputs": [],
   "source": [
    "range(5)"
   ]
  },
  {
   "cell_type": "code",
   "execution_count": null,
   "id": "0ff620b7-a6f9-41ba-9db3-7a93d69a4fb4",
   "metadata": {},
   "outputs": [],
   "source": [
    "a = list(range(5))\n",
    "print(a)"
   ]
  },
  {
   "cell_type": "code",
   "execution_count": null,
   "id": "afff2a56-6bfb-400e-917b-0cd37ff1ea8c",
   "metadata": {},
   "outputs": [],
   "source": [
    "print(range(2, 5, 3))"
   ]
  },
  {
   "cell_type": "code",
   "execution_count": null,
   "id": "3d82d998-ea1e-443c-8c37-14ec94fb4b26",
   "metadata": {},
   "outputs": [],
   "source": [
    "b = list(range(2, 5, 3))  #   Inicio = 2 , final = n-1 = 5-1  range(2, 5)  esperaria tener esos valores 2,3,4; pero el incremento es 3\n",
    "print(b)                  #   inicio (2) + incremento (3) = 5 "
   ]
  },
  {
   "cell_type": "code",
   "execution_count": 1,
   "id": "57f989c0-f1ff-4618-915c-19fbb6ff7827",
   "metadata": {},
   "outputs": [
    {
     "name": "stdout",
     "output_type": "stream",
     "text": [
      "{'Luigi', 'Toad', 'Peach', 'Donkey', 'Mario', 'Yoshi'}\n",
      "Luigi en team: a\n",
      "Toad en teams: a-b\n",
      "Peach en teams: a-b-c\n",
      "Donkey en team: b\n",
      "Mario en teams: a-c\n",
      "Yoshi en teams: b-c\n"
     ]
    }
   ],
   "source": [
    "# Especifcando los integrantes de los equipos\n",
    "team_a = {'Peach', 'Mario', 'Luigi', 'Toad'}\n",
    "team_b = {'Yoshi', 'Toad', 'Peach', 'Donkey'}\n",
    "team_c = {'Mario', 'Yoshi', 'Peach', 'Dixie'}\n",
    "\n",
    "# Encontrando los nombres de los integrantes de todos los equipos\n",
    "all_characters = team_a.union(team_b).union(team_b)\n",
    "print(all_characters)\n",
    "\n",
    "for personaje in all_characters:\n",
    "    # Creando una lista vacia\n",
    "    in_team = []\n",
    "    for ID, team in zip('abc', [team_a, team_b, team_c]):\n",
    "        if personaje in team:\n",
    "            in_team.append(ID)\n",
    "    label_team = '-'.join(in_team)\n",
    "    p = 's' if len(in_team) > 1 else ''\n",
    "    print(f'{personaje} en team{p}: {label_team}')\n"
   ]
  }
 ],
 "metadata": {
  "kernelspec": {
   "display_name": "Python 3 (ipykernel)",
   "language": "python",
   "name": "python3"
  },
  "language_info": {
   "codemirror_mode": {
    "name": "ipython",
    "version": 3
   },
   "file_extension": ".py",
   "mimetype": "text/x-python",
   "name": "python",
   "nbconvert_exporter": "python",
   "pygments_lexer": "ipython3",
   "version": "3.12.4"
  }
 },
 "nbformat": 4,
 "nbformat_minor": 5
}
