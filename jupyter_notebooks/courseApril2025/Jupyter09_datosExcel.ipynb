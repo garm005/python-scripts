{
 "cells": [
  {
   "cell_type": "markdown",
   "id": "73c06da5",
   "metadata": {},
   "source": [
    "# Procesamiento de Datos usando Pandas\n",
    "\n",
    "Gabriel Ruiz Martínez"
   ]
  },
  {
   "cell_type": "markdown",
   "id": "b0ba1b09",
   "metadata": {},
   "source": [
    "Importando paquetes"
   ]
  },
  {
   "cell_type": "code",
   "execution_count": null,
   "id": "e014a014",
   "metadata": {},
   "outputs": [],
   "source": [
    "import pandas as pd\n",
    "from pandas import Timestamp"
   ]
  },
  {
   "cell_type": "markdown",
   "id": "c3acbb46",
   "metadata": {},
   "source": [
    "Los valores de los parámetros que se requieren para cargar los datos en un DataFrame se almacenarán en una variable para que el programa sea más genérico y pueda utilizarse, no solo en caso, sino en varios."
   ]
  },
  {
   "cell_type": "code",
   "execution_count": null,
   "id": "b4032e5a",
   "metadata": {},
   "outputs": [],
   "source": [
    "# Guardando en variable el nombre de archivo a abrir\n",
    "namefile = 'BASES_FORMULACION.xlsx'\n",
    "\n",
    "# Guardando en variable el numero de la linea donde se encuentran los encabezados de los datos\n",
    "row_encab = 4"
   ]
  },
  {
   "cell_type": "markdown",
   "id": "88d041af",
   "metadata": {},
   "source": [
    "Cuando usamos un archivo que contiene un libro electrónico con hojas de cálculo es posible que se presenten casos donde solo es necesario cargar una sola hoja o todo el libro. En Pandas, cuando cargamos solamente una página electrónica, los datos se almacenarán en un DataFrame. Por otra parte, si se cargan todas las hojas del libro o un conjunto de ellas, los datos se guardarán en un diccionario de DataFrames; las etiquetas serán los números enteros que corresponden a las hojas electrónicas y los valores serán los DataFrames.<br>\n",
    "\n",
    "Para específicar las hojas de cálculo que se exportarán a un DataFrame, se puede indicar el nombre de la hoja electrónica o usar el número entero que corresponde a la página del libro, recordando que el número de la primera página será cero. En Pandas, mediante una lista se puede indicar un conjunto de páginas a exportar, ya sea con los nombres o el número de página del libro.  Por ejemplo para seleccionar la primera página, con el nombre de 'CLIENTE 1', tenemos las siguientes opciones:<br>\n",
    "`sheet_data = 'CLIENTE 1'`<br>\n",
    "`sheet_data = 0`<br>\n",
    "\n",
    "Imaginemos que se tiene un libro de 5 hojas, con etiquetas H1, H2, ... H5 y deseamos trabajar solo con un conjunto de ellas:<br>\n",
    "`sheet_data = ['H1', 'H2', 'H3']`<br>\n",
    "`sheet_data = [0, 2, 'H5']`<br>\n",
    "`sheet_data = [0, 2, 4]`<br>\n",
    "\n",
    "Si deseamos cargar todo el libro electrónico:<br>\n",
    "`sheet_data = [0, 1, 2, 3, 4]`<br>\n",
    "`sheet_data = ['H1', 'H2', 'H3', 'H4', 'H5']`<br>\n",
    "`sheet_data = ['H1', 'H2', 2, 3, 4]`<br>\n",
    "`sheet_data = None`<br>\n",
    "\n",
    "Observa que si usas en el método `read_excel` y en el parámetro `sheet_name` específicas una lista, obtendrás un diccionario de DataFrames."
   ]
  },
  {
   "cell_type": "code",
   "execution_count": null,
   "id": "eafe779d",
   "metadata": {},
   "outputs": [],
   "source": [
    "# Proporcionando solamente una hoja con los datos de interes,\n",
    "sheet_data = 'CLIENTE 1'\n",
    "#sheet_data = 0"
   ]
  },
  {
   "cell_type": "markdown",
   "id": "3ad206d4",
   "metadata": {},
   "source": [
    " Por medio del parámetro `usecols`, se puede indicar a Pandas las columnas que deseamos exportar de la base de datos. La manera de específicar las columnas es similar a lo mencionado en la importación de las hojas electrónicas, es decir se puede utilizar los nombres de los encabezados o el número entero que corresponde al orden de las columnas. Si deseamos importar todas las columnas, especificar `None`."
   ]
  },
  {
   "cell_type": "code",
   "execution_count": null,
   "id": "f3dddd80",
   "metadata": {},
   "outputs": [],
   "source": [
    "# Especificando que deseamos exportar todas las columnas\n",
    "columnsWork = None"
   ]
  },
  {
   "cell_type": "markdown",
   "id": "4d70dec7",
   "metadata": {},
   "source": [
    "En algunas ocasiones, nuestra base de datos contiene celdas vacías, cuando se presente este caso, debemos indicar como se tratarán e identificarán estos datos pérdidos. A continuación, en una variable almacenamos el string que indicará como deben reconocerse las celdas vacías."
   ]
  },
  {
   "cell_type": "code",
   "execution_count": null,
   "id": "c65fbdd3",
   "metadata": {},
   "outputs": [],
   "source": [
    "# String para reconocimiento de datos perdidos\n",
    "nanRecog = 'nan'"
   ]
  },
  {
   "cell_type": "code",
   "execution_count": null,
   "id": "e536c33a",
   "metadata": {},
   "outputs": [],
   "source": [
    "# Guardando los datos en un DataFrame de Pandas\n",
    "datos = pd.read_excel(namefile,\n",
    "                      sheet_name=sheet_data,\n",
    "                      header=row_encab,\n",
    "                      usecols=columnsWork,\n",
    "                      na_values=nanRecog)\n",
    "\n",
    "# Con el metodo head() por default puedo visualizar las primeras cinco lineas de mis datos\n",
    "datos.head()"
   ]
  },
  {
   "cell_type": "code",
   "execution_count": null,
   "id": "1902e502",
   "metadata": {},
   "outputs": [],
   "source": [
    "# Visualizando el número filas y datos que tiene la base de datos\n",
    "print(f'La base de datos tiene {datos.shape[0]} lineas y {datos.shape[1]} columnas')"
   ]
  },
  {
   "cell_type": "code",
   "execution_count": null,
   "id": "8bfff86d",
   "metadata": {},
   "outputs": [],
   "source": [
    "# Con el metodo tail() por default puedo visualizar las ultimas cinco lineas de mis datos\n",
    "datos.tail()"
   ]
  },
  {
   "cell_type": "code",
   "execution_count": null,
   "id": "3cfaf99f",
   "metadata": {},
   "outputs": [],
   "source": [
    "# Verificando información básica del DataFrame\n",
    "datos.info()"
   ]
  },
  {
   "cell_type": "code",
   "execution_count": null,
   "id": "a8605282",
   "metadata": {},
   "outputs": [],
   "source": [
    "# Verificando los indices\n",
    "datos.index\n",
    "\n",
    "# Asignando un nombre a la columna de los indices\n",
    "datos.index.name = 'No.'\n",
    "print(datos.index)\n",
    "datos.head(3)"
   ]
  },
  {
   "cell_type": "code",
   "execution_count": null,
   "id": "fb536d06",
   "metadata": {},
   "outputs": [],
   "source": [
    "# Revisando el contenido del objeto que almacena las etiquetas de las columnas\n",
    "print(datos.columns)\n",
    "\n",
    "# Cambiando el nombre de algunas columnas\n",
    "datos.rename(columns={'SUBRAMO': 'Subramo', 'TRAMITE':'tramite'})\n",
    "datos.head(3)"
   ]
  },
  {
   "cell_type": "code",
   "execution_count": null,
   "id": "15687d0a",
   "metadata": {},
   "outputs": [],
   "source": [
    "# Eliminando columnas\n",
    "datos.drop(columns=['SUBRAMO'])"
   ]
  },
  {
   "cell_type": "code",
   "execution_count": null,
   "id": "b8510c6c",
   "metadata": {},
   "outputs": [],
   "source": [
    "# Ordenando los renglones por columna (ascendente)\n",
    "sortAsc = datos.sort_values(by='PAGADO')\n",
    "\n",
    "# Ordenando los renglones por columna (descendente)\n",
    "sortDes = datos.sort_values(by='PAGADO', ascending=False)\n",
    "\n",
    "# Almacenando en variable una columna para analisis\n",
    "datos2 = datos.copy()\n",
    "datosF = datos2.sort_values('FECHA DE PRIMER GASTO', inplace=True)\n",
    "dateFirstpay = datos2['FECHA DE PRIMER GASTO']\n",
    "\n",
    "# Obteniendo los índices líneas de todos aquellos registros donde la fecha del primer gasto fue diferente al year 2025\n",
    "iFirstpay = datos2.index[(dateFirstpay < Timestamp('2025-1-1')) & (dateFirstpay > Timestamp('2024-1-1'))]\n",
    "\n",
    "# Almacenando datos en Series para exportar a un DataFrame de resultado\n",
    "ser1 = datos2['POLIZA'][iFirstpay]\n",
    "ser2 = datos2['No DE SINIESTRO'][iFirstpay]\n",
    "ser3 = dateFirstpay[iFirstpay]\n",
    "ser4 = datos2['TITULAR.1'][iFirstpay]\n",
    "\n",
    "# Creando el DataFrame con el resultado del analisis\n",
    "output = pd.DataFrame({'POLIZA':ser1,\n",
    "                       'No DE SINIESTRO':ser2,\n",
    "                       'FECHA DE PRIMER GASTO':ser3,\n",
    "                       'TITULAR.1':ser4})\n",
    "\n",
    "# Reiniciando el contador de indice\n",
    "output.reset_index(names='No.', inplace=True)\n",
    "\n",
    "# Imprimiendo filtrado\n",
    "for i in range(len(output)):\n",
    "    data1 = output['POLIZA'][i]\n",
    "    data2 = output['No DE SINIESTRO'][i]\n",
    "    data3 = output['TITULAR.1'][i]\n",
    "    data4 = output['FECHA DE PRIMER GASTO'][i].strftime('%d/%m/%Y')\n",
    "    print(f'Poliza: {data1}, # de Siniestro: {data2}, Nombre del Titular: {data3}. Fecha del primer gasto: {data4}')\n",
    "\n",
    "# Exportando hacia archivo\n",
    "output.to_excel('output.xlsx',\n",
    "                sheet_name='Resultados',\n",
    "                columns= ['POLIZA', 'No DE SINIESTRO', 'TITULAR.1', 'FECHA DE PRIMER GASTO' ],\n",
    "                index=False, \n",
    "                index_label=False)\n",
    "\n",
    "print('Se han exportado los resultados a un archivo de Excel!')"
   ]
  }
 ],
 "metadata": {
  "kernelspec": {
   "display_name": "Python 3",
   "language": "python",
   "name": "python3"
  },
  "language_info": {
   "codemirror_mode": {
    "name": "ipython",
    "version": 3
   },
   "file_extension": ".py",
   "mimetype": "text/x-python",
   "name": "python",
   "nbconvert_exporter": "python",
   "pygments_lexer": "ipython3",
   "version": "3.12.4"
  }
 },
 "nbformat": 4,
 "nbformat_minor": 5
}
