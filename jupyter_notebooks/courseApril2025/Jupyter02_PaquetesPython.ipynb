{
 "cells": [
  {
   "cell_type": "markdown",
   "id": "c375d61e-a402-4c00-85d6-80f93e8cdd33",
   "metadata": {},
   "source": [
    "# Paquetes de Python\n",
    "-----------------------------------\n",
    "\n",
    "**Gabriel Ruiz Martinez**\n",
    "\n",
    "[ORCID](https://orcid.org/0000-0001-6651-7836) | [Scopus](https://www.scopus.com/authid/detail.uri?authorId=57188985692) | [Posgrado IMTA](http://posgrado.imta.edu.mx/index.php/2-inicio/168-semblanza-curricular-dr-gabriel-ruiz-martinez)\n",
    "\n",
    "Tecnólogo del Agua | Subcoordinación de Posgrado y Educación Continua.\n",
    "\n",
    "[Instituto Mexicano de Tecnología del Agua](https://www.gob.mx/imta).\n",
    "\n",
    "Marzo del 2025\n",
    "\n",
    "![Imagen](CC_BY-NC_4_0_reduc.png)\n",
    "\n",
    "------------------------------------"
   ]
  },
  {
   "cell_type": "markdown",
   "id": "95aaedb0-a160-4924-84cf-9167ba9f3049",
   "metadata": {},
   "source": [
    "<div id='seccion1'/>\n",
    "\n",
    "## Introducción.\n",
    "Python contiene una estructura intrínseca y comandos matemáticos, pero sus capacidades pueden ser incrementadas dramáticamente al usar **módulos**. Los módulos están escritos en Python, o en un lenguaje compilador como C, para ayudar a simplificar tareas generales, comunes o redundantes. Los **paquetes** pueden contener uno o más módulos, los cuales están diseñados para facilitar tareas que persiguen un cómputo o análisis determinado. Un paquete es una carpeta que contiene diferentes archivos con extensión **.py**.\n",
    "\n",
    "Al día de hoy, existen registrados en [pipy.org](https://pypi.org/) 620,953 paquetes de Python; muchos de ellos son desarrollados, corregidos o mantenidos por amplias comunidades en linea. Este esfuerzo masivo nos beneficia, ya que muchas tareas comunes que realizamos en Python, posiblemente, han sido desarrolladas por alguien más. Sin embargo, debemos identificar que muchos de los paquetes no tienen un equipo de programadores a tiempo completo para realizar mejoras o correcciones y es por ello, que algunos proyectos de paquetes suelen ser abandonados por las personas que los desarrollan o también, puede pasar que eventualmente los paquetes sean obsoletos.\n",
    "\n",
    "Por lo anterior se recomienda que cuando elijas un paquete para aprenderlo y trabajar con el, consideres lo siguiente:\n",
    "1. Usa paquetes que tenga una gran relevancia en [pipy.org](https://pypi.org/).\n",
    "2. Usa paquetes que tengan un gran soporte por la comunidad de Python.\n",
    "3. Usa código que sea eficiente para reducir el tiempo de códificado e incrementar la velocidad de ejecución.\n",
    "\n",
    "A continuación te comparto una pequeña lista de paquetes de Python que toda persona que comienza a programar en Python puede llegar a usar:\n",
    "\n",
    "- Math,\n",
    "- Numpy,\n",
    "- Matplotlib,\n",
    "- Pandas.\n",
    "\n",
    "<div id='seccion2'/>\n",
    "    \n",
    "## Importación de un paquete.\n",
    "En Python debemos usar el comando `import` para importar funciones, variables y métodos de  un paquete y que éstos se encuentren disponibles para usar en nuestro programa o script de Python.\n",
    "\n",
    "La sintaxis del comando es:<br>\n",
    "`import <nombre_Paquete>`<br>\n",
    "donde: *nombre_Paquete* es el nombre del paquete que deseamos usar pero sin incluir la extensión *.py*. \n",
    "\n",
    "Cabe mencionar que:\n",
    "1. al emplear el comando `import` estamos cargando el paquete completo.\n",
    "2. siempre que se requiera usar una función o método del paquete importado es necesario *hacer referencia al nombre de la libreria*, seguido del operador de módulo (.) y el nombre de la función a usar."
   ]
  },
  {
   "cell_type": "code",
   "execution_count": 1,
   "id": "75762777-0bb2-4cbb-9c73-171215fe5995",
   "metadata": {},
   "outputs": [
    {
     "name": "stdout",
     "output_type": "stream",
     "text": [
      "2.0\n",
      "7\n"
     ]
    }
   ],
   "source": [
    "# Vamos a cargar los paquete matemático de Python\n",
    "import math\n",
    "\n",
    "# Obteniendo la raiz cuadrada de 4 y almacenando su valor en la variable a\n",
    "a = math.sqrt(4)\n",
    "print(a)\n",
    "\n",
    "# Redondeando a valor superior\n",
    "b = math.ceil(6.5)\n",
    "print(b)"
   ]
  },
  {
   "cell_type": "markdown",
   "id": "fd1aa139-353b-4ec6-8e1d-9c65c17a1d40",
   "metadata": {},
   "source": [
    "En algunas ocasiones, los nombres de los paquetes que importamos son muy extensos y debido a que estos nombres deben usarse cada vez que se usa o invoca una función, podemos usar un alias para abreviar el nombre del paquete; para ello usamos la siguiente sintaxis:\n",
    "\n",
    "`import <nombre_Paquete> as <nombre_Alias>`<br>\n",
    "donde: *nombre_Alias* es el nombre abreviado del paquete. Por ejemplo:"
   ]
  },
  {
   "cell_type": "code",
   "execution_count": 2,
   "id": "27a95fc3-b645-487c-beac-8b04bd51d0cc",
   "metadata": {},
   "outputs": [],
   "source": [
    "# Importando los paquetes de Numpy y Pandas, con alias\n",
    "import numpy as np\n",
    "import pandas as pd"
   ]
  },
  {
   "cell_type": "markdown",
   "id": "d0ddcfe5-28b3-4b60-8511-ee876fc39eb5",
   "metadata": {},
   "source": [
    "Existirán casos donde no será necesario cargar todas las funciones o métodos que contiene un paquete, cuando este caso ocurra, importaremos partes del paquete con el uso de la palabra `from` e `import`. La sintaxis es la siguiente:\n",
    "\n",
    "`from <nombre_Paquete> import <nombre_funcion>`<br>\n",
    "donde: *nombre_funcion* corresponde al nombre de la función o método que solamente deseamos usar en nuestro programa."
   ]
  },
  {
   "cell_type": "code",
   "execution_count": 3,
   "id": "217175c2-a2a6-4dbc-848c-1d5cdd537b37",
   "metadata": {},
   "outputs": [
    {
     "name": "stdout",
     "output_type": "stream",
     "text": [
      "3\n"
     ]
    }
   ],
   "source": [
    "# Importando del paquete de math, solo la funcion de redondeo cercano a 0\n",
    "from math import floor\n",
    "\n",
    "# Asignando a la variable x el valor redondeado de 3.4 e imprimiento el valor almacenado en dicha variable\n",
    "x = floor(3.4)\n",
    "print(x)"
   ]
  },
  {
   "cell_type": "code",
   "execution_count": 4,
   "id": "96434816-be79-4788-ba2e-cf06f92c5e28",
   "metadata": {},
   "outputs": [],
   "source": [
    "# Por ejemplo, importaremos, solamente, la función array del paquete numpy y le asignaremos el alias de arr\n",
    "from numpy import array as arr"
   ]
  },
  {
   "cell_type": "markdown",
   "id": "a7a4de70-9d7c-4588-9031-2cfcbcba48ae",
   "metadata": {},
   "source": [
    "Es importante resaltar que se **recomienda que la importación de los paquetes, que usarás en tus programas de Python, se encuentre en las primeras líneas de tu programa**"
   ]
  }
 ],
 "metadata": {
  "kernelspec": {
   "display_name": "Python 3 (ipykernel)",
   "language": "python",
   "name": "python3"
  },
  "language_info": {
   "codemirror_mode": {
    "name": "ipython",
    "version": 3
   },
   "file_extension": ".py",
   "mimetype": "text/x-python",
   "name": "python",
   "nbconvert_exporter": "python",
   "pygments_lexer": "ipython3",
   "version": "3.12.4"
  }
 },
 "nbformat": 4,
 "nbformat_minor": 5
}
