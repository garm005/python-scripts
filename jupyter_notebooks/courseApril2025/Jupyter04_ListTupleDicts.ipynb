{
 "cells": [
  {
   "cell_type": "markdown",
   "id": "2cf2ebec-20e5-41a5-909d-1f0f329542cb",
   "metadata": {},
   "source": [
    "# Tipos de almacenamiento de datos en Python\n",
    "-----------------------------------\n",
    "\n",
    "**Gabriel Ruiz Martinez**\n",
    "\n",
    "[ORCID](https://orcid.org/0000-0001-6651-7836) | [Scopus](https://www.scopus.com/authid/detail.uri?authorId=57188985692) | [Posgrado IMTA](http://posgrado.imta.edu.mx/index.php/2-inicio/168-semblanza-curricular-dr-gabriel-ruiz-martinez)\n",
    "\n",
    "Tecnólogo del Agua | Subcoordinación de Posgrado y Educación Continua.\n",
    "\n",
    "[Instituto Mexicano de Tecnología del Agua](https://www.gob.mx/imta).\n",
    "\n",
    "\n",
    "![Imagen](CC_BY-NC_4_0_reduc.png)\n",
    "\n",
    "------------------------------------\n",
    "\n",
    "## Listas (list)\n",
    "En Python una **lista** es una variable de arreglo unidimensional donde los datos tendrán una posición determinada dentro del mismo.\n",
    "\n",
    "En una lista puedes asignar una serie de valores o ítems **sepárandolos por una coma**; la serie de valores **estará delimitada por corchetes**. No se\n",
    "requiere que todos los ítems sean del mismo tipo."
   ]
  },
  {
   "cell_type": "code",
   "execution_count": 1,
   "id": "e80a7bf3-9750-47cf-9e01-e62f30d68288",
   "metadata": {},
   "outputs": [
    {
     "data": {
      "text/plain": [
       "[31, 56, 78, 23, 11, 89, 60, 81, 71, 20, 17, 56, 33, 55]"
      ]
     },
     "execution_count": 1,
     "metadata": {},
     "output_type": "execute_result"
    }
   ],
   "source": [
    "# Creando un lista\n",
    "a = [31, 56, 78, 23, 11, 89, 60, 81, 71, 20, 17, 56, 33, 55]\n",
    "a"
   ]
  },
  {
   "cell_type": "code",
   "execution_count": 2,
   "id": "d8dbe446-2c33-4b00-8de3-00c0f15be9f5",
   "metadata": {
    "scrolled": true
   },
   "outputs": [
    {
     "data": {
      "text/plain": [
       "14"
      ]
     },
     "execution_count": 2,
     "metadata": {},
     "output_type": "execute_result"
    }
   ],
   "source": [
    "# Con la funcion len podemos conocer el numero de elementos que se encuentran en una lista\n",
    "len(a)"
   ]
  },
  {
   "cell_type": "code",
   "execution_count": 3,
   "id": "97fa2b22-7e61-4006-8ed7-316e8d7a610c",
   "metadata": {},
   "outputs": [
    {
     "name": "stdout",
     "output_type": "stream",
     "text": [
      "La longitud de mi arreglo es 5\n"
     ]
    }
   ],
   "source": [
    "# Lista con elementos de diferentes tipos de datos\n",
    "b = [452, 389, 'year', 'ventas', 7]\n",
    "b\n",
    "print('La longitud de mi arreglo es', len(b))"
   ]
  },
  {
   "cell_type": "code",
   "execution_count": 4,
   "id": "33854227-f850-4fb1-a022-18c3abb995c0",
   "metadata": {},
   "outputs": [
    {
     "data": {
      "text/plain": [
       "[789, [1000, 2000], 0.34, 'iva']"
      ]
     },
     "execution_count": 4,
     "metadata": {},
     "output_type": "execute_result"
    }
   ],
   "source": [
    "# Anidando una lista de numeros enteros dentro de otra lista que contiene diferentes tipos de datos\n",
    "c = [789, [1000, 2000], 0.34, 'iva']\n",
    "c"
   ]
  },
  {
   "cell_type": "code",
   "execution_count": 5,
   "id": "8d191400-9550-4f63-93b4-18a3270bc089",
   "metadata": {
    "jupyter": {
     "source_hidden": true
    }
   },
   "outputs": [
    {
     "data": {
      "text/plain": [
       "[10, 20, [1, 2, 3, 4], 50, 60]"
      ]
     },
     "execution_count": 5,
     "metadata": {},
     "output_type": "execute_result"
    }
   ],
   "source": [
    "# Creando una lista en una variable\n",
    "ase = [ 1, 2, 3, 4]\n",
    "# Anidando una listas con la variable que contiene otra lista\n",
    "asd = [ 10, 20, ase, 50, 60]\n",
    "asd"
   ]
  },
  {
   "cell_type": "code",
   "execution_count": 6,
   "id": "333a48e6-d0fd-468c-bda3-6abfcadb6b9f",
   "metadata": {},
   "outputs": [],
   "source": [
    "# Creando una lista vacia\n",
    "d = []"
   ]
  },
  {
   "cell_type": "markdown",
   "id": "a2ccbd57-fec5-4c89-aec4-0e9713e4e95a",
   "metadata": {},
   "source": [
    "### Indexado de elementos en Python (indexación)"
   ]
  },
  {
   "cell_type": "code",
   "execution_count": 7,
   "id": "18af340d-a89c-481a-9430-49cfa0bdf720",
   "metadata": {},
   "outputs": [
    {
     "name": "stdout",
     "output_type": "stream",
     "text": [
      "El valor del primer elemento de a es: 31\n",
      "El valor del quinto elemento de a es: 11\n",
      "El valor del octavo elemento de a es: 81\n",
      "1000\n",
      "55\n",
      "[31, 56, 78]\n",
      "[31, 56, 78, 23, 11, 89, 60, 81, 71]\n",
      "[89, 60, 81, 71, 20, 17, 56, 33, 55]\n",
      "[31, 56, 78, 23, 11, 89, 60, 81, 71, 20, 17, 56, 33, 55]\n",
      "[31, 56, 78, 23, 11, 89, 60, 81, 71, 20, 17, 56, 33, 55]\n",
      "[56, 23, 89, 81, 20]\n",
      "[55, 56]\n",
      "[31, 56, 78, 23, 11, 89, 60, 81, 71, 20, 17, 56, 33, 55, 350]\n",
      "[500, 31, 56, 78, 23, 11, 89, 60, 81, 71, 20, 17, 56, 33, 55, 350]\n"
     ]
    }
   ],
   "source": [
    "# Verifcando el valor del 1er elemento de la lista a\n",
    "a[0]\n",
    "print('El valor del primer elemento de a es:', a[0])\n",
    "\n",
    "# Verificando el valor de 5to elemento de la lista a\n",
    "a[4]\n",
    "print('El valor del quinto elemento de a es:', a[4])\n",
    "\n",
    "# Verificando el valor del 8vo elemento de la lista a\n",
    "a[7]\n",
    "print('El valor del octavo elemento de a es:', a[7])\n",
    "\n",
    "# Verificando el valor de 2do elemento c y el segundo elemento de la lista anidada\n",
    "c[1][1]\n",
    "print(c[1][0])\n",
    "\n",
    "# Verificando el ultimo valor del arreglo a. referenciando de \"derecha a izquierda\"\n",
    "a[-1]\n",
    "print(a[-1])\n",
    "\n",
    "# Para seleccionar un rango de elementos, debemos proporcionar el indice del primer elemento\n",
    "a[0:3]\n",
    "print(a[0:3])\n",
    "\n",
    "#\n",
    "a[:-5]\n",
    "print(a[:-5])\n",
    "\n",
    "#\n",
    "a[5:]\n",
    "print(a[5:])\n",
    "\n",
    "# Visualizando toda la lista. Recordando que cuando no se indica un indice a la izquierda de :, estamos indicando el indice 0 \n",
    "# y cuando no indicamos el indice a la derecha de los dos puntos, Python asume que se refiere al último indice\n",
    "a[:]\n",
    "print(a[:])\n",
    "\n",
    "#\n",
    "print(a)\n",
    "a[1:10:2]\n",
    "print(a[1:10:2])\n",
    "\n",
    "#\n",
    "a[-1:-4:-2]\n",
    "print(a[-1:-4:-2])\n",
    "\n",
    "# Agregando un elemento al final de la lista a\n",
    "a.append(350)\n",
    "print(a)\n",
    "\n",
    "# Agregando (insertando) un elemento al inicio de la lista, usando el metodo insert\n",
    "a.insert(0, 500)\n",
    "print(a)\n",
    "\n",
    "# Borrando un elemento de la lista a\n",
    "del a[0]"
   ]
  },
  {
   "cell_type": "code",
   "execution_count": 8,
   "id": "1d4a952e-3a24-4a00-af9b-d18c2165cfed",
   "metadata": {},
   "outputs": [
    {
     "data": {
      "text/plain": [
       "56"
      ]
     },
     "execution_count": 8,
     "metadata": {},
     "output_type": "execute_result"
    }
   ],
   "source": [
    "# Borrando un elemento de la lista a, por medio del metodo pop\n",
    "a.pop(1)"
   ]
  },
  {
   "cell_type": "markdown",
   "id": "eb0b3ff7-2fcd-4304-9351-c9b9e651ca08",
   "metadata": {},
   "source": [
    "## Tuplas"
   ]
  },
  {
   "cell_type": "code",
   "execution_count": 9,
   "id": "7caa8305-936a-4ad9-be9f-dc88987412ef",
   "metadata": {},
   "outputs": [
    {
     "name": "stdout",
     "output_type": "stream",
     "text": [
      "()\n"
     ]
    }
   ],
   "source": [
    "# Estableciendo una tupla vacia\n",
    "tup = ()\n",
    "print(tup)"
   ]
  },
  {
   "cell_type": "code",
   "execution_count": 10,
   "id": "74016750-2e94-4166-a7db-ed45c8c9deb7",
   "metadata": {
    "jupyter": {
     "source_hidden": true
    }
   },
   "outputs": [
    {
     "name": "stdout",
     "output_type": "stream",
     "text": [
      "(23, 45, 78, 90)\n"
     ]
    },
    {
     "data": {
      "text/plain": [
       "tuple"
      ]
     },
     "execution_count": 10,
     "metadata": {},
     "output_type": "execute_result"
    }
   ],
   "source": [
    "# Creando una tupla con un mismo tipo de dato\n",
    "tup1 = (23, 45, 78, 90)\n",
    "print(tup1)\n",
    "len(tup1)\n",
    "type(tup1)"
   ]
  },
  {
   "cell_type": "code",
   "execution_count": 11,
   "id": "2188df12-4517-4769-87bb-340f040b0f59",
   "metadata": {},
   "outputs": [
    {
     "name": "stdout",
     "output_type": "stream",
     "text": [
      "(10, 'hola', (34, 56, 23), [3.1415, 9.81])\n"
     ]
    }
   ],
   "source": [
    "# Anidando una tupla con diferentes tipos de datos y estructuras de datos\n",
    "tup2 = (10, 'hola', (34, 56, 23), [3.1415, 9.81])\n",
    "print(tup2)"
   ]
  },
  {
   "cell_type": "code",
   "execution_count": 12,
   "id": "3353261e-47cd-4281-8f0a-dd80d457b80e",
   "metadata": {},
   "outputs": [
    {
     "name": "stdout",
     "output_type": "stream",
     "text": [
      "(2, 5.6, 'Linux', [6.7, 4.5])\n"
     ]
    }
   ],
   "source": [
    "# Otra manera de crear una tupla es proporcionando los elementos separados por uan coma\n",
    "tup3 = 2, 5.6, 'Linux', [6.7, 4.5]\n",
    "print(tup3)"
   ]
  },
  {
   "cell_type": "code",
   "execution_count": 13,
   "id": "e1ebce20-8b33-4085-a0e7-060842321260",
   "metadata": {},
   "outputs": [
    {
     "name": "stdout",
     "output_type": "stream",
     "text": [
      "2\n"
     ]
    }
   ],
   "source": [
    "# Visualizando el valor del primer elemento de la tup3\n",
    "print(tup3[0])"
   ]
  },
  {
   "cell_type": "code",
   "execution_count": 14,
   "id": "a09611ce-37a9-4aba-8b84-e8de0fbc7cd9",
   "metadata": {},
   "outputs": [
    {
     "name": "stdout",
     "output_type": "stream",
     "text": [
      "(23, 45, 67, 89, 100, 200)\n"
     ]
    }
   ],
   "source": [
    "# Concatenando 3 tuplas\n",
    "q = ((23, 45) + (67, 89) + (100, 200))\n",
    "print(q)"
   ]
  },
  {
   "cell_type": "code",
   "execution_count": 15,
   "id": "0b56387a-8f75-4de2-88f4-01fa8230f58b",
   "metadata": {},
   "outputs": [
    {
     "name": "stdout",
     "output_type": "stream",
     "text": [
      "(23, 45, 67, 89, 67, 89, 67, 89, 67, 89, 100, 200)\n"
     ]
    }
   ],
   "source": [
    "# Concatenando 6 tuplas de las cuales 1 de ellas se repite 4 veces sus elementos\n",
    "u = ((23, 45) + (67, 89)*4 + (100, 200))\n",
    "print(u)"
   ]
  },
  {
   "cell_type": "code",
   "execution_count": 16,
   "id": "bee49743-967b-43cc-9354-31e66691e102",
   "metadata": {},
   "outputs": [
    {
     "name": "stdout",
     "output_type": "stream",
     "text": [
      "(1, 2, 3)\n"
     ]
    }
   ],
   "source": [
    "# Usando la función tupla para convertir una lista en una tupla\n",
    "er = tuple([1, 2, 3])\n",
    "print(er)"
   ]
  },
  {
   "cell_type": "code",
   "execution_count": 17,
   "id": "81e0ec15-56dc-4f8d-8648-a48dc918f75d",
   "metadata": {},
   "outputs": [
    {
     "name": "stdout",
     "output_type": "stream",
     "text": [
      "[1, 2, 3]\n"
     ]
    },
    {
     "data": {
      "text/plain": [
       "list"
      ]
     },
     "execution_count": 17,
     "metadata": {},
     "output_type": "execute_result"
    }
   ],
   "source": [
    "# Usando la funcion lista para convertir una tupla en una lista y usamos la funcion type para verificar el tipo de estructura que se tiene\n",
    "t1 = list(er)\n",
    "print(t1)\n",
    "type(t1)"
   ]
  },
  {
   "cell_type": "markdown",
   "id": "fac66b3d-3216-4796-9d54-5383bdc0b1cd",
   "metadata": {},
   "source": [
    "## Diccionarios"
   ]
  },
  {
   "cell_type": "code",
   "execution_count": 18,
   "id": "cfbff0f6-6661-48a6-8fed-39c7291386dc",
   "metadata": {},
   "outputs": [
    {
     "name": "stdout",
     "output_type": "stream",
     "text": [
      "{'Juan Reyes': 123, 'Pepito Lopez': 56, 'John Doe': 89, 'Jane Doe': 4}\n"
     ]
    },
    {
     "data": {
      "text/plain": [
       "dict"
      ]
     },
     "execution_count": 18,
     "metadata": {},
     "output_type": "execute_result"
    }
   ],
   "source": [
    "db1 ={'Juan Reyes':123, 'Pepito Lopez':56, 'John Doe':89, 'Jane Doe':4}\n",
    "print(db1)\n",
    "type(db1)"
   ]
  },
  {
   "cell_type": "code",
   "execution_count": 19,
   "id": "08706484-2c90-4597-b092-f45c60c4393c",
   "metadata": {},
   "outputs": [
    {
     "name": "stdout",
     "output_type": "stream",
     "text": [
      "123\n"
     ]
    }
   ],
   "source": [
    "print(db1['Juan Reyes'])"
   ]
  },
  {
   "cell_type": "code",
   "execution_count": 20,
   "id": "d91a1fca-0366-4c52-94ef-cb1bf0458ce7",
   "metadata": {},
   "outputs": [
    {
     "name": "stdout",
     "output_type": "stream",
     "text": [
      "[350, 55, 33]\n"
     ]
    }
   ],
   "source": [
    "a[-1:-4:-1]\n",
    "print(a[-1:-4:-1])"
   ]
  }
 ],
 "metadata": {
  "kernelspec": {
   "display_name": "Python 3 (ipykernel)",
   "language": "python",
   "name": "python3"
  },
  "language_info": {
   "codemirror_mode": {
    "name": "ipython",
    "version": 3
   },
   "file_extension": ".py",
   "mimetype": "text/x-python",
   "name": "python",
   "nbconvert_exporter": "python",
   "pygments_lexer": "ipython3",
   "version": "3.12.4"
  }
 },
 "nbformat": 4,
 "nbformat_minor": 5
}
