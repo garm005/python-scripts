{
 "cells": [
  {
   "cell_type": "markdown",
   "id": "d8f328d8-8bb5-40ce-b682-648817fcb93a",
   "metadata": {},
   "source": [
    "# Tipos de datos en Python\n",
    "-----------------------------------\n",
    "\n",
    "**Gabriel Ruiz Martinez**\n",
    "\n",
    "[ORCID](https://orcid.org/0000-0001-6651-7836) | [Scopus](https://www.scopus.com/authid/detail.uri?authorId=57188985692) | [Posgrado IMTA](http://posgrado.imta.edu.mx/index.php/2-inicio/168-semblanza-curricular-dr-gabriel-ruiz-martinez)\n",
    "\n",
    "Tecnólogo del Agua | Subcoordinación de Posgrado y Educación Continua.\n",
    "\n",
    "[Instituto Mexicano de Tecnología del Agua](https://www.gob.mx/imta).\n",
    "\n",
    "Marzo del 2025\n",
    "\n",
    "![Imagen](CC_BY-NC_4_0_reduc.png)\n",
    "\n",
    "------------------------------------"
   ]
  },
  {
   "cell_type": "markdown",
   "id": "bae2e4d2-0511-4ebd-9b86-567fcba768bb",
   "metadata": {},
   "source": [
    "# Introducción\n",
    "\n",
    "En Informática los programas están compuestos por líneas con órdenes para la computadora, es decir código y datos. Recordemos que Python interpreta la codificación, traduce todo el programa a lenguaje máquina y en la memoria, almacena en bits los datos e instrucciones. Cada compartimiento de memoria contiene un objeto virtual, que a su vez se integra de un **tipo de dato** almacenado, una **etiqueta** para identificarlo de otros objetos y un **valor** que debe de ser consistente con el tipo de dato.\n",
    "\n",
    "Los principales dato que se tienen en Python son:\n",
    "| Nombre | Tipo | Ejemplo\n",
    "|--- | :---: | :---: |\n",
    "| Entero | int | 5, 12345, 1000000 |\n",
    "| Flotante | float | 3.1415, 2.7e-3, 56.7 |\n",
    "| Booleano | bool | True, False |\n",
    "| Cadena | string | 'hola', \"rafael\", 'control' |\n",
    "\n",
    "## Variables (compartimiento de memoria)\n",
    "Las variables son los elementos donde almacenamos los valores que se tienen en memoria y que usamos en nuestros programas. Las variables se identifican por medio de nombres o etiquetas. Los nombres **solo pueden integrarse con letras mayúsculas, minúsculas, números y guiones bajos (_); siempre deben de comenzar con un letra o un guión bajo, **nunca** con un número y no puede ser una palabra reservada. \n",
    "\n",
    "Para conocer cuáles son las palabras reservadas en Python, podemos usar la función `help` de la siguiente manera:"
   ]
  },
  {
   "cell_type": "code",
   "execution_count": 1,
   "id": "824fefca-3996-4da6-8611-01c115cc9bd8",
   "metadata": {},
   "outputs": [
    {
     "name": "stdout",
     "output_type": "stream",
     "text": [
      "\n",
      "Here is a list of the Python keywords.  Enter any keyword to get more help.\n",
      "\n",
      "False               class               from                or\n",
      "None                continue            global              pass\n",
      "True                def                 if                  raise\n",
      "and                 del                 import              return\n",
      "as                  elif                in                  try\n",
      "assert              else                is                  while\n",
      "async               except              lambda              with\n",
      "await               finally             nonlocal            yield\n",
      "break               for                 not                 \n",
      "\n"
     ]
    }
   ],
   "source": [
    "help('keywords')"
   ]
  },
  {
   "cell_type": "markdown",
   "id": "73a382a3-d672-41bb-814d-7a75e51d9142",
   "metadata": {},
   "source": [
    "### Operador de Asignación de valores\n",
    "En Python usamos el símbolo aritmético de igualdad (=) **para asignar** un valor a una variable."
   ]
  },
  {
   "cell_type": "code",
   "execution_count": 2,
   "id": "5627a594-6f70-4a4e-b348-4ef9ffb7926c",
   "metadata": {},
   "outputs": [],
   "source": [
    "pi = 3.1416\n",
    "g = 9.81\n",
    "iva = 16\n",
    "nombre = 'John Elway'"
   ]
  },
  {
   "cell_type": "markdown",
   "id": "04711c62-c301-4b74-8c54-ebdd702e402b",
   "metadata": {},
   "source": [
    "## Tipo de dato numérico entero (int)\n",
    "\n",
    "Los datos númericos enteros son todos aquellos que no pertenecen a los números racionales e irracionales, es decir, que no contienen decimales; sin embargo, pueden tener signo positivo o negativo. \n",
    "\n",
    "Debemos tener en cuenta que un número entero no puede iniciar con 0."
   ]
  },
  {
   "cell_type": "code",
   "execution_count": 3,
   "id": "5f936228-be5d-48ec-9abe-dc4445c28dd1",
   "metadata": {},
   "outputs": [
    {
     "name": "stdout",
     "output_type": "stream",
     "text": [
      "5\n",
      "567\n",
      "-90\n",
      "-180\n",
      "90\n"
     ]
    }
   ],
   "source": [
    "f = 5\n",
    "print(f)\n",
    "\n",
    "dg = 567\n",
    "print(dg)\n",
    "\n",
    "er = -90\n",
    "print(er)\n",
    "\n",
    "grados = -180\n",
    "print(grados)\n",
    "\n",
    "par = +90\n",
    "print(par)"
   ]
  },
  {
   "cell_type": "markdown",
   "id": "82c3e694-47dd-4db3-84e4-4acd0422cec0",
   "metadata": {},
   "source": [
    "Como se ha observado en el ejemplo anterior, tu puedes crear un número entero simplemente escribiendo el número explicítamente, pero también puedes usar la función `int()` para generar número enteros. Generalmente esta función se utiliza para convertir otros tipos de datos a números enteros, por ejemplo:"
   ]
  },
  {
   "cell_type": "code",
   "execution_count": 4,
   "id": "9a4a2e10-5bc6-4c10-8c6f-1906f5a23670",
   "metadata": {},
   "outputs": [
    {
     "name": "stdout",
     "output_type": "stream",
     "text": [
      "23\n",
      "9\n"
     ]
    }
   ],
   "source": [
    "# Convirtiendo un dato numerico tipo float a tipo int\n",
    "dist = int(23.5)\n",
    "print(dist)\n",
    "\n",
    "# Convirtiendo un dato del tipo string a tipo int\n",
    "pulgada = int(float(\"9\"))\n",
    "print(pulgada)"
   ]
  },
  {
   "cell_type": "markdown",
   "id": "432a0f10-c9d1-4659-a2b8-2ec3b49c500f",
   "metadata": {},
   "source": [
    "Identifica que cuando tengas una cadena de caracteres que represente un número flotante o entero, primero tienes que convertir el dato de string a flotante y después, de flotante a entero.\n",
    "\n",
    "Por otra parte, cuando manejas grandes valores de números enteros puedes puedes expresar una cantidad usando guiones bajo para facilitar la lectura de los números. "
   ]
  },
  {
   "cell_type": "code",
   "execution_count": 5,
   "id": "3eb36e2d-b392-48a4-9a8b-1c8b9cbab0d8",
   "metadata": {},
   "outputs": [
    {
     "data": {
      "text/plain": [
       "10000000"
      ]
     },
     "execution_count": 5,
     "metadata": {},
     "output_type": "execute_result"
    }
   ],
   "source": [
    "10_000_000"
   ]
  },
  {
   "cell_type": "markdown",
   "id": "08fdd567-b3b9-4fed-bce4-50ad9429f5d6",
   "metadata": {},
   "source": [
    "### Función `type` para revisar el tipo de dato\n",
    "\n",
    "Si deseamos verificar o tenemos incertidumbre acerca del tipo de dato que estamos usando, podemos la función `type()` para conocer el tipo de dato. Por ejemplo:"
   ]
  },
  {
   "cell_type": "code",
   "execution_count": 6,
   "id": "61dac951-8ff2-4445-9f83-ca6011c62dab",
   "metadata": {},
   "outputs": [
    {
     "data": {
      "text/plain": [
       "int"
      ]
     },
     "execution_count": 6,
     "metadata": {},
     "output_type": "execute_result"
    }
   ],
   "source": [
    "type(10_000_000)"
   ]
  },
  {
   "cell_type": "code",
   "execution_count": 7,
   "id": "920054da-a62e-407e-92f3-bc2cb5be2c2a",
   "metadata": {},
   "outputs": [
    {
     "data": {
      "text/plain": [
       "float"
      ]
     },
     "execution_count": 7,
     "metadata": {},
     "output_type": "execute_result"
    }
   ],
   "source": [
    "type(3.1415)"
   ]
  },
  {
   "cell_type": "code",
   "execution_count": 8,
   "id": "f05d6bf7-3a27-40dd-aa60-0bc509f9b721",
   "metadata": {},
   "outputs": [
    {
     "data": {
      "text/plain": [
       "str"
      ]
     },
     "execution_count": 8,
     "metadata": {},
     "output_type": "execute_result"
    }
   ],
   "source": [
    "type('hola')"
   ]
  },
  {
   "cell_type": "code",
   "execution_count": 9,
   "id": "605570d6-a776-4bec-b66f-f5fd7f898fe4",
   "metadata": {},
   "outputs": [
    {
     "data": {
      "text/plain": [
       "bool"
      ]
     },
     "execution_count": 9,
     "metadata": {},
     "output_type": "execute_result"
    }
   ],
   "source": [
    "type(True)"
   ]
  },
  {
   "cell_type": "markdown",
   "id": "abd62adb-cccc-4d68-8aa9-1493c8416c7b",
   "metadata": {},
   "source": [
    "## Tipo de dato numérico flotante (float)\n",
    "\n",
    "En Informática todos los números que tienen una parte decimal se conocen como números flotantes (float).\n",
    "\n",
    "De manera similar a los datos numéricos de tipo entero, podemos usar los guiones bajos para hacer más legible grandes valores o podemos usar la notación exponencial para expresar numeros muy grandes.\n",
    "\n",
    "Se puede usar la función `float()` para crear números del tipo flotante a partir de otros tipos de datos.\n",
    "\n",
    "Ejemplos:"
   ]
  },
  {
   "cell_type": "code",
   "execution_count": 10,
   "id": "70537527-11ba-43ff-bf33-fc8e2d4e2987",
   "metadata": {},
   "outputs": [
    {
     "name": "stdout",
     "output_type": "stream",
     "text": [
      "3.1416\n"
     ]
    }
   ],
   "source": [
    "pi = 3.1416\n",
    "print(pi)"
   ]
  },
  {
   "cell_type": "code",
   "execution_count": 11,
   "id": "9d711d1e-6d5c-4001-bc1a-8423b352a9d1",
   "metadata": {},
   "outputs": [
    {
     "name": "stdout",
     "output_type": "stream",
     "text": [
      "45.7\n"
     ]
    }
   ],
   "source": [
    "valor_1 = 45.7\n",
    "print(valor_1)"
   ]
  },
  {
   "cell_type": "code",
   "execution_count": 12,
   "id": "39471d16-7d1d-49da-b605-0137a9859fee",
   "metadata": {},
   "outputs": [
    {
     "data": {
      "text/plain": [
       "5100000000.0"
      ]
     },
     "execution_count": 12,
     "metadata": {},
     "output_type": "execute_result"
    }
   ],
   "source": [
    "5_100_000_000.0"
   ]
  },
  {
   "cell_type": "code",
   "execution_count": 13,
   "id": "d8751129-8cba-4279-93c8-9cdbf25fb7dc",
   "metadata": {},
   "outputs": [
    {
     "data": {
      "text/plain": [
       "5100000000.0"
      ]
     },
     "execution_count": 13,
     "metadata": {},
     "output_type": "execute_result"
    }
   ],
   "source": [
    "5.1e9"
   ]
  },
  {
   "cell_type": "code",
   "execution_count": 14,
   "id": "1f185c0b-9cc5-4587-ada0-f04c74881979",
   "metadata": {},
   "outputs": [
    {
     "data": {
      "text/plain": [
       "1000.0"
      ]
     },
     "execution_count": 14,
     "metadata": {},
     "output_type": "execute_result"
    }
   ],
   "source": [
    "float(1000)"
   ]
  },
  {
   "cell_type": "code",
   "execution_count": 15,
   "id": "12783e45-11da-4a11-a7e0-25705d1f1632",
   "metadata": {},
   "outputs": [
    {
     "data": {
      "text/plain": [
       "23.0"
      ]
     },
     "execution_count": 15,
     "metadata": {},
     "output_type": "execute_result"
    }
   ],
   "source": [
    "float('23')"
   ]
  },
  {
   "cell_type": "markdown",
   "id": "346ea5d9-3937-4d8a-a42b-71ca18875fe7",
   "metadata": {},
   "source": [
    "## Operador aritméticos\n",
    "\n",
    "Python puede usarse como una calculadora científica digital y los operadores aritméticos son:\n",
    "| Operador | Operación aritmética | Ejemplo |\n",
    "| :---: | :---: | :---: |\n",
    "| + | Adición | 34 + 34 |\n",
    "| - | Sustracción | 23 - 678 |\n",
    "| * | Producto | 2 * 50 |\n",
    "| / | Cociente flotante | 1 / 2 |\n",
    "| // | Cociente entero | 5 // 2 |\n",
    "| % | Módulo | 11 % 2 |\n",
    "| ** | Exponenciación | 3 ** 2 |\n",
    " "
   ]
  },
  {
   "cell_type": "markdown",
   "id": "53a9c3d9-cae1-4614-a4f8-c83515914590",
   "metadata": {},
   "source": [
    "## Tipo de dato cadena de caracteres (string)\n",
    "\n",
    "El tipo de dato que, generalmente, se conoce como string son cadenas de texto o secuenciasde caracteres. Los strings pueden construirse mediante el uso de comillas simples (') o comillas dobles(\") que delimiten un texto o un caracter alfanumérico. No es posible combinar una comilla simple con una comilla doble o viceversa. Para crear cadenas con multiples líneas debemos usar comillas triples ('''). De manera similar a los datos numéricos, se puede utilizar la función `str()` para convertir otro tipo de datos a cadenas de caracteres."
   ]
  },
  {
   "cell_type": "code",
   "execution_count": 16,
   "id": "071d2ac5-7bb1-4e98-b567-4591768def6f",
   "metadata": {},
   "outputs": [
    {
     "name": "stdout",
     "output_type": "stream",
     "text": [
      "Oprimir enter para continuar\n"
     ]
    }
   ],
   "source": [
    "mensaje = 'Oprimir enter para continuar'\n",
    "print(mensaje)"
   ]
  },
  {
   "cell_type": "code",
   "execution_count": 17,
   "id": "7d79411d-6828-4018-bdba-3062661b17e9",
   "metadata": {},
   "outputs": [
    {
     "name": "stdout",
     "output_type": "stream",
     "text": [
      "06/08/2023\n"
     ]
    }
   ],
   "source": [
    "fecha_Inicio = \"06/08/2023\"\n",
    "print(fecha_Inicio)"
   ]
  },
  {
   "cell_type": "code",
   "execution_count": 18,
   "id": "fdc7febb-34c5-46f3-a087-1172cf535482",
   "metadata": {},
   "outputs": [
    {
     "name": "stdout",
     "output_type": "stream",
     "text": [
      "3.1416\n"
     ]
    },
    {
     "data": {
      "text/plain": [
       "str"
      ]
     },
     "execution_count": 18,
     "metadata": {},
     "output_type": "execute_result"
    }
   ],
   "source": [
    "pi = '3.1416'\n",
    "print(pi)\n",
    "type(pi)"
   ]
  },
  {
   "cell_type": "code",
   "execution_count": 19,
   "id": "0ea0c961-dad0-4619-b93f-c51e3bf2aa0f",
   "metadata": {},
   "outputs": [
    {
     "name": "stdout",
     "output_type": "stream",
     "text": [
      "El programa calcula\n",
      "la media movil de la serie de\n",
      "tiempo que corresponde al mes de junio\n"
     ]
    }
   ],
   "source": [
    "multiLine = '''El programa calcula\n",
    "la media movil de la serie de\n",
    "tiempo que corresponde al mes de junio'''\n",
    "print(multiLine)"
   ]
  },
  {
   "cell_type": "code",
   "execution_count": 20,
   "id": "1fa9c173-d80e-4c7c-9f4f-d5ad4d778390",
   "metadata": {},
   "outputs": [
    {
     "data": {
      "text/plain": [
       "'9.81'"
      ]
     },
     "execution_count": 20,
     "metadata": {},
     "output_type": "execute_result"
    }
   ],
   "source": [
    "str(9.81)"
   ]
  },
  {
   "cell_type": "markdown",
   "id": "bca69ed0-119d-4e4d-92ab-2454ac36c690",
   "metadata": {},
   "source": [
    "## Tipo de dato lógico o booleano (bool)\n",
    "\n",
    "En Python los tipos de datos son `True` o `False`."
   ]
  },
  {
   "cell_type": "code",
   "execution_count": 21,
   "id": "2114b706-221d-480a-840b-c16091b95050",
   "metadata": {},
   "outputs": [
    {
     "name": "stdout",
     "output_type": "stream",
     "text": [
      "True\n"
     ]
    },
    {
     "data": {
      "text/plain": [
       "bool"
      ]
     },
     "execution_count": 21,
     "metadata": {},
     "output_type": "execute_result"
    }
   ],
   "source": [
    "flag1 = True\n",
    "print(flag1)\n",
    "type(flag1)"
   ]
  }
 ],
 "metadata": {
  "kernelspec": {
   "display_name": "Python 3 (ipykernel)",
   "language": "python",
   "name": "python3"
  },
  "language_info": {
   "codemirror_mode": {
    "name": "ipython",
    "version": 3
   },
   "file_extension": ".py",
   "mimetype": "text/x-python",
   "name": "python",
   "nbconvert_exporter": "python",
   "pygments_lexer": "ipython3",
   "version": "3.12.4"
  }
 },
 "nbformat": 4,
 "nbformat_minor": 5
}
