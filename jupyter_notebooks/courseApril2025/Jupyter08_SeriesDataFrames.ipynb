{
 "cells": [
  {
   "cell_type": "markdown",
   "id": "4eb92dcb-faf6-4b96-9140-da70f7bae2a5",
   "metadata": {},
   "source": [
    "# Pandas\n",
    "-----------------------------------\n",
    "\n",
    "**Gabriel Ruiz Martinez**\n",
    "\n",
    "[ORCID](https://orcid.org/0000-0001-6651-7836) | [Scopus](https://www.scopus.com/authid/detail.uri?authorId=57188985692) | [Posgrado IMTA](http://posgrado.imta.edu.mx/index.php/2-inicio/168-semblanza-curricular-dr-gabriel-ruiz-martinez)\n",
    "\n",
    "Tecnólogo del Agua | Subcoordinación de Posgrado y Educación Continua.\n",
    "\n",
    "[Instituto Mexicano de Tecnología del Agua](https://www.gob.mx/imta).\n",
    "\n",
    "------------------------------------\n",
    "\n",
    "## Introducción.\n",
    "Pandas es una paquete de alto desempeño y código abierto para efectuar el análisis de datos con Python. Su aparición se remonta al año 2008 y fue desarrollado por Wes McKinney. Con el paso de los años, Pandas se ha convertido de-facto en el paquete estándar de Python para analizar datos.\n",
    "\n",
    "Las principales características que tiene Pandas son las siguientes:\n",
    "- Puede procesar una gran variedad de datos en diferentes formatos, como series de tiempos, datos tabulares heterogéneos y datos matriciales.\n",
    "- Facilita la carga o importación de datos a partir de varias fuentes, como por ejemplo, CSV, DB/SQL, XLSX, etc.\n",
    "- Puede manejar un sinfín de operaciones en conjuntos o bases de datos: selección por indexación (slicing), filtrar, unir, agrupar, reordenar, reconfigurar (re-shaping).\n",
    "- Puede manipular datos perdidos de acuerdo a condiciones que fija el usuario o desarrollador, por ejemplo: ignorar, convertir a 0, etc.\n",
    "- Su integración con otros paquetes, e.g. SciPy, Matplotlib, Scikit-learn, es muy buena.\n",
    "- Tiene un rápido desempeño y puede acelerar sus procesos aun más, usando Cython (extensiones de C para Python).\n",
    "- Por medio de los objetos Series y Dataframes puede representar datos de una manera fácil, conscisa y de una forma natural, tal como lo requiere el análisis de datos. Lo anterior en Java, C, C++ requiere muchas líneas de programación, ya que estos lenguajes no fueron desarrollados para el análisis de datos.\n",
    "- Su interfaz de programación de aplicaciones (API) al ser clara y conscisa permite que el usuario se concentre más en el análisis de la información y no preocuparse en escribir código para realizar el procesamiento de los datos. Por ejemplo, para leer un archivo CSV y almacenar los datos en un DataFrame, se requieren de dos líneas de código; mientras que la misma tarea en Java, C, C++ puede necesitar más líneas de código o llamar librerías no estandar para dichos lenguajes de programación."
   ]
  },
  {
   "cell_type": "markdown",
   "id": "08fee125-f903-42d5-9af3-bde74ee60d41",
   "metadata": {},
   "source": [
    "# Series\n",
    "\n",
    "En Pandas, las Series son arreglos unidimensionales de datos indexados y pueden crearse a partir de una lista de valores.\n",
    "\n",
    "![Tomado de The pandas development team](series.png)\n"
   ]
  },
  {
   "cell_type": "code",
   "execution_count": 1,
   "id": "422b5738-c420-4aaa-ac56-10c24e3dcaec",
   "metadata": {},
   "outputs": [],
   "source": [
    "# Importación del paquete\n",
    "import pandas as pd"
   ]
  },
  {
   "cell_type": "code",
   "execution_count": 2,
   "id": "cf6e35ac-e7f6-4989-9114-a4ee5aefb596",
   "metadata": {},
   "outputs": [
    {
     "data": {
      "text/plain": [
       "0    1992\n",
       "1    1994\n",
       "2    1995\n",
       "3    1999\n",
       "4    2000\n",
       "5    2001\n",
       "dtype: int64"
      ]
     },
     "execution_count": 2,
     "metadata": {},
     "output_type": "execute_result"
    }
   ],
   "source": [
    "datos = pd.Series([1992, 1994, 1995, 1999, 2000, 2001])\n",
    "datos"
   ]
  },
  {
   "cell_type": "markdown",
   "id": "79e1f9f1-edee-4ee6-89b6-8b6a9666e952",
   "metadata": {},
   "source": [
    "Una de las características de las Series se relaciona a la combinación de una secuencia de valores con una secuencia explícita de índices; las cuales que podemos accesar con los atributos de `values` e `index`. "
   ]
  },
  {
   "cell_type": "code",
   "execution_count": 3,
   "id": "764b30ad-86de-4789-ae98-c29369e44326",
   "metadata": {},
   "outputs": [
    {
     "data": {
      "text/plain": [
       "array([1992, 1994, 1995, 1999, 2000, 2001], dtype=int64)"
      ]
     },
     "execution_count": 3,
     "metadata": {},
     "output_type": "execute_result"
    }
   ],
   "source": [
    "datos.values"
   ]
  },
  {
   "cell_type": "code",
   "execution_count": 4,
   "id": "d990718f-8bc6-436a-8556-225c16759d27",
   "metadata": {},
   "outputs": [
    {
     "data": {
      "text/plain": [
       "RangeIndex(start=0, stop=6, step=1)"
      ]
     },
     "execution_count": 4,
     "metadata": {},
     "output_type": "execute_result"
    }
   ],
   "source": [
    "# index nos proporciona un objeto arreglo\n",
    "datos.index"
   ]
  },
  {
   "cell_type": "markdown",
   "id": "7616077f-488e-44f1-9e3c-c4168a379dd6",
   "metadata": {},
   "source": [
    "Usamos la indexación para poder accesar a los datos, para asociar el índice de los datos lo hacemos con la notación de Python de corchetes."
   ]
  },
  {
   "cell_type": "code",
   "execution_count": 5,
   "id": "d2db88a3-5864-4d43-bb0a-e3154e7f2a58",
   "metadata": {},
   "outputs": [
    {
     "data": {
      "text/plain": [
       "1992"
      ]
     },
     "execution_count": 5,
     "metadata": {},
     "output_type": "execute_result"
    }
   ],
   "source": [
    "datos[0]"
   ]
  },
  {
   "cell_type": "code",
   "execution_count": 6,
   "id": "e6d67733-a65f-4b78-9101-2cc12b67f68e",
   "metadata": {},
   "outputs": [
    {
     "data": {
      "text/plain": [
       "1    1994\n",
       "2    1995\n",
       "dtype: int64"
      ]
     },
     "execution_count": 6,
     "metadata": {},
     "output_type": "execute_result"
    }
   ],
   "source": [
    "datos[1:3]"
   ]
  },
  {
   "cell_type": "code",
   "execution_count": 7,
   "id": "5e6f5739-ce82-4846-9a7a-6b008fda0f73",
   "metadata": {},
   "outputs": [
    {
     "data": {
      "text/plain": [
       "0    1992\n",
       "1    1994\n",
       "2    1995\n",
       "3    1999\n",
       "4    2000\n",
       "5    2001\n",
       "dtype: int64"
      ]
     },
     "execution_count": 7,
     "metadata": {},
     "output_type": "execute_result"
    }
   ],
   "source": [
    "datos[:]"
   ]
  },
  {
   "cell_type": "code",
   "execution_count": 8,
   "id": "d42c5fa7-e8da-449f-a5ba-3c8e9ddf9d44",
   "metadata": {},
   "outputs": [
    {
     "data": {
      "text/plain": [
       "0    1992\n",
       "1    1994\n",
       "2    1995\n",
       "3    1999\n",
       "4    2000\n",
       "dtype: int64"
      ]
     },
     "execution_count": 8,
     "metadata": {},
     "output_type": "execute_result"
    }
   ],
   "source": [
    "datos[0:-1]"
   ]
  },
  {
   "cell_type": "code",
   "execution_count": 9,
   "id": "2745b301-cc51-47f4-924d-167f0f0c58aa",
   "metadata": {},
   "outputs": [
    {
     "data": {
      "text/plain": [
       "0    1992\n",
       "1    1994\n",
       "2    1995\n",
       "3    1999\n",
       "dtype: int64"
      ]
     },
     "execution_count": 9,
     "metadata": {},
     "output_type": "execute_result"
    }
   ],
   "source": [
    "datos[:4]"
   ]
  },
  {
   "cell_type": "code",
   "execution_count": 10,
   "id": "5c418aac-d6da-41ed-a4ba-d29a2a51de13",
   "metadata": {},
   "outputs": [
    {
     "data": {
      "text/plain": [
       "0    1992\n",
       "2    1995\n",
       "4    2000\n",
       "dtype: int64"
      ]
     },
     "execution_count": 10,
     "metadata": {},
     "output_type": "execute_result"
    }
   ],
   "source": [
    "datos[0:5:2]"
   ]
  },
  {
   "cell_type": "markdown",
   "id": "4dbfdb87-7f8c-4e88-9a83-6d761bb5d42e",
   "metadata": {},
   "source": [
    "Los índices de los valores de una Serie en Pandas se pueden definir de manera explícita."
   ]
  },
  {
   "cell_type": "code",
   "execution_count": 11,
   "id": "49fbf448-6901-4e0a-9c86-7279ca0982a1",
   "metadata": {},
   "outputs": [
    {
     "data": {
      "text/plain": [
       "A    0.00\n",
       "B    0.25\n",
       "C    0.50\n",
       "D    0.75\n",
       "E    1.00\n",
       "dtype: float64"
      ]
     },
     "execution_count": 11,
     "metadata": {},
     "output_type": "execute_result"
    }
   ],
   "source": [
    "Datos = pd.Series([0, 0.25, 0.5, 0.75, 1.0], index=['A', 'B', 'C', 'D', 'E'])\n",
    "Datos"
   ]
  },
  {
   "cell_type": "code",
   "execution_count": 12,
   "id": "76cb7e45-52d8-4dee-a181-2f8630420921",
   "metadata": {},
   "outputs": [
    {
     "name": "stderr",
     "output_type": "stream",
     "text": [
      "C:\\Users\\gabriel\\AppData\\Local\\Temp\\ipykernel_14096\\1217581362.py:1: FutureWarning: Series.__getitem__ treating keys as positions is deprecated. In a future version, integer keys will always be treated as labels (consistent with DataFrame behavior). To access a value by position, use `ser.iloc[pos]`\n",
      "  Datos[1]\n"
     ]
    },
    {
     "data": {
      "text/plain": [
       "0.25"
      ]
     },
     "execution_count": 12,
     "metadata": {},
     "output_type": "execute_result"
    }
   ],
   "source": [
    "Datos[1]"
   ]
  },
  {
   "cell_type": "code",
   "execution_count": 13,
   "id": "97f88c38-7b4a-4f8e-bad3-b670b6f96953",
   "metadata": {},
   "outputs": [
    {
     "data": {
      "text/plain": [
       "0.0"
      ]
     },
     "execution_count": 13,
     "metadata": {},
     "output_type": "execute_result"
    }
   ],
   "source": [
    "Datos['A']"
   ]
  },
  {
   "cell_type": "code",
   "execution_count": 14,
   "id": "d48addd6-71cf-4d9a-9b4f-726181030a37",
   "metadata": {},
   "outputs": [
    {
     "data": {
      "text/plain": [
       "A    0.0\n",
       "C    0.5\n",
       "E    1.0\n",
       "dtype: float64"
      ]
     },
     "execution_count": 14,
     "metadata": {},
     "output_type": "execute_result"
    }
   ],
   "source": [
    "Datos['A':'E':2]"
   ]
  },
  {
   "cell_type": "markdown",
   "id": "886af3c9-65ac-46fd-88b9-ee850e33480d",
   "metadata": {},
   "source": [
    "También podemos usar índices no secuenciales."
   ]
  },
  {
   "cell_type": "code",
   "execution_count": 15,
   "id": "8ae61af6-83ec-4627-8106-1c8100ce96c3",
   "metadata": {},
   "outputs": [
    {
     "data": {
      "text/plain": [
       "2    0.25\n",
       "5    0.50\n",
       "3    0.75\n",
       "7    1.00\n",
       "dtype: float64"
      ]
     },
     "execution_count": 15,
     "metadata": {},
     "output_type": "execute_result"
    }
   ],
   "source": [
    "Datos1 = pd.Series([ 0.25, 0.5, 0.75, 1.0 ], index=[2, 5, 3, 7])\n",
    "Datos1"
   ]
  },
  {
   "cell_type": "code",
   "execution_count": 16,
   "id": "f73a7403-1a09-4ff3-8783-80a8671811d0",
   "metadata": {},
   "outputs": [
    {
     "data": {
      "text/plain": [
       "1.0"
      ]
     },
     "execution_count": 16,
     "metadata": {},
     "output_type": "execute_result"
    }
   ],
   "source": [
    "Datos1[7]"
   ]
  },
  {
   "cell_type": "markdown",
   "id": "d786c3e8-a255-4e12-a9c1-7556921b6dcd",
   "metadata": {},
   "source": [
    "Creando una Series a partir de un diccionario."
   ]
  },
  {
   "cell_type": "code",
   "execution_count": 17,
   "id": "7670884c-3a8d-4019-9931-b2287405f220",
   "metadata": {},
   "outputs": [
    {
     "data": {
      "text/plain": [
       "{'Leon': 345, 'Claire': 78, 'Ryu': 456, 'Ken': 90, 'Cammy': 1000}"
      ]
     },
     "execution_count": 17,
     "metadata": {},
     "output_type": "execute_result"
    }
   ],
   "source": [
    "reg_dict = {'Leon': 345, 'Claire':78, 'Ryu':456, 'Ken':90, 'Cammy':1000}\n",
    "reg_dict"
   ]
  },
  {
   "cell_type": "code",
   "execution_count": 18,
   "id": "946ed5a9-83f2-4e77-af15-625c06a173a0",
   "metadata": {},
   "outputs": [
    {
     "data": {
      "text/plain": [
       "Leon       345\n",
       "Claire      78\n",
       "Ryu        456\n",
       "Ken         90\n",
       "Cammy     1000\n",
       "Name: Clientes, dtype: int64"
      ]
     },
     "execution_count": 18,
     "metadata": {},
     "output_type": "execute_result"
    }
   ],
   "source": [
    "reg = pd.Series(reg_dict, name='Clientes')\n",
    "reg"
   ]
  },
  {
   "cell_type": "markdown",
   "id": "f23f3160-1d3a-48e3-bdee-c35d20944729",
   "metadata": {},
   "source": [
    "Podemos hacer el \"slicing\" como lo hemos venido realizando:"
   ]
  },
  {
   "cell_type": "code",
   "execution_count": 19,
   "id": "a91e19ea-390a-4a2c-b7fa-e875c6c5c2a5",
   "metadata": {},
   "outputs": [
    {
     "data": {
      "text/plain": [
       "Leon      345\n",
       "Claire     78\n",
       "Ryu       456\n",
       "Name: Clientes, dtype: int64"
      ]
     },
     "execution_count": 19,
     "metadata": {},
     "output_type": "execute_result"
    }
   ],
   "source": [
    "reg['Leon':'Ryu']"
   ]
  },
  {
   "cell_type": "code",
   "execution_count": 20,
   "id": "98a5045b-8ef6-45a8-99ea-71a2a86c2031",
   "metadata": {},
   "outputs": [
    {
     "data": {
      "text/plain": [
       "0     2\n",
       "1     4\n",
       "2     6\n",
       "3     8\n",
       "4    10\n",
       "5    12\n",
       "dtype: int64"
      ]
     },
     "execution_count": 20,
     "metadata": {},
     "output_type": "execute_result"
    }
   ],
   "source": [
    "pd.Series([2, 4, 6, 8, 10, 12])"
   ]
  },
  {
   "cell_type": "code",
   "execution_count": 21,
   "id": "147396e3-8f16-4cd1-acff-94897a257407",
   "metadata": {},
   "outputs": [
    {
     "data": {
      "text/plain": [
       "10    345\n",
       "20    345\n",
       "30    345\n",
       "40    345\n",
       "50    345\n",
       "dtype: int64"
      ]
     },
     "execution_count": 21,
     "metadata": {},
     "output_type": "execute_result"
    }
   ],
   "source": [
    "pd.Series(345, index=[10, 20, 30, 40, 50])"
   ]
  },
  {
   "cell_type": "code",
   "execution_count": 22,
   "id": "bb79c795-ef3f-4ae8-928e-503b35c56c77",
   "metadata": {},
   "outputs": [
    {
     "data": {
      "text/plain": [
       "2    a\n",
       "1    b\n",
       "3    c\n",
       "dtype: object"
      ]
     },
     "execution_count": 22,
     "metadata": {},
     "output_type": "execute_result"
    }
   ],
   "source": [
    "pd.Series({2:'a', 1:'b', 3:'c'})"
   ]
  },
  {
   "cell_type": "code",
   "execution_count": 23,
   "id": "5c1429f5-30db-490a-b02a-d8d017f7a811",
   "metadata": {},
   "outputs": [
    {
     "data": {
      "text/plain": [
       "Leon       345\n",
       "Claire      78\n",
       "Ryu        456\n",
       "Ken         90\n",
       "Cammy     1000\n",
       "Name: Clientes, dtype: int64"
      ]
     },
     "execution_count": 23,
     "metadata": {},
     "output_type": "execute_result"
    }
   ],
   "source": [
    "reg_dict = {'Leon': 345, 'Claire':78, 'Ryu':456, 'Ken':90, 'Cammy':1000}\n",
    "reg = pd.Series(reg_dict, name='Clientes')\n",
    "reg"
   ]
  },
  {
   "cell_type": "code",
   "execution_count": 24,
   "id": "560c10b4-869a-4788-820f-181350569bd6",
   "metadata": {},
   "outputs": [
    {
     "data": {
      "text/plain": [
       "count       5.000000\n",
       "mean      393.800000\n",
       "std       376.082704\n",
       "min        78.000000\n",
       "25%        90.000000\n",
       "50%       345.000000\n",
       "75%       456.000000\n",
       "max      1000.000000\n",
       "Name: Clientes, dtype: float64"
      ]
     },
     "execution_count": 24,
     "metadata": {},
     "output_type": "execute_result"
    }
   ],
   "source": [
    "reg.describe()"
   ]
  },
  {
   "cell_type": "code",
   "execution_count": 25,
   "id": "7433b903-45ef-44cd-905e-243afb8eb812",
   "metadata": {},
   "outputs": [
    {
     "data": {
      "text/plain": [
       "0     Vega\n",
       "1    Akuma\n",
       "2    Barog\n",
       "3    Akuma\n",
       "dtype: object"
      ]
     },
     "execution_count": 25,
     "metadata": {},
     "output_type": "execute_result"
    }
   ],
   "source": [
    "reg1 = pd.Series(['Vega', 'Akuma', 'Barog', 'Akuma'])\n",
    "reg1"
   ]
  },
  {
   "cell_type": "code",
   "execution_count": 26,
   "id": "5a39b2c4-7891-4e78-adac-779404ba8533",
   "metadata": {},
   "outputs": [
    {
     "data": {
      "text/plain": [
       "count         4\n",
       "unique        3\n",
       "top       Akuma\n",
       "freq          2\n",
       "dtype: object"
      ]
     },
     "execution_count": 26,
     "metadata": {},
     "output_type": "execute_result"
    }
   ],
   "source": [
    "reg1.describe()"
   ]
  },
  {
   "cell_type": "markdown",
   "id": "fdfae3ad-738d-49c5-8ce5-899dba55822a",
   "metadata": {},
   "source": [
    "# Dataframes\n",
    "Así como una Serie puede identificarse como un arreglo unidimensional con índices explícitos, un Dataframe puede entenderse como arreglo bidimensional con índices explícitos de filas y columnas. Puedes visualizar un Dataframe como un objeto que tiene una secuencia de series alineadas, entendiendo que por \"alineadas\" nos referimos que comparten el mismo índice.\n",
    "\n",
    "![Tomado de The pandas development team](dataframes.png)"
   ]
  },
  {
   "cell_type": "code",
   "execution_count": 27,
   "id": "d3bbc3cb-8a6f-44cc-8c25-710112e62186",
   "metadata": {},
   "outputs": [
    {
     "data": {
      "text/plain": [
       "Leon      10\n",
       "Claire    13\n",
       "Ryu        9\n",
       "Ken       16\n",
       "Cammy     14\n",
       "dtype: int64"
      ]
     },
     "execution_count": 27,
     "metadata": {},
     "output_type": "execute_result"
    }
   ],
   "source": [
    "interes = {'Leon':10, 'Claire':13, 'Ryu':9, 'Ken':16, 'Cammy':14}\n",
    "inter = pd.Series(interes)\n",
    "inter"
   ]
  },
  {
   "cell_type": "code",
   "execution_count": 28,
   "id": "4010d0a0-3c06-491b-a32d-33d16d39eae5",
   "metadata": {},
   "outputs": [
    {
     "data": {
      "text/html": [
       "<div>\n",
       "<style scoped>\n",
       "    .dataframe tbody tr th:only-of-type {\n",
       "        vertical-align: middle;\n",
       "    }\n",
       "\n",
       "    .dataframe tbody tr th {\n",
       "        vertical-align: top;\n",
       "    }\n",
       "\n",
       "    .dataframe thead th {\n",
       "        text-align: right;\n",
       "    }\n",
       "</style>\n",
       "<table border=\"1\" class=\"dataframe\">\n",
       "  <thead>\n",
       "    <tr style=\"text-align: right;\">\n",
       "      <th></th>\n",
       "      <th>Cuenta</th>\n",
       "      <th>Intereses</th>\n",
       "    </tr>\n",
       "  </thead>\n",
       "  <tbody>\n",
       "    <tr>\n",
       "      <th>Leon</th>\n",
       "      <td>345</td>\n",
       "      <td>10</td>\n",
       "    </tr>\n",
       "    <tr>\n",
       "      <th>Claire</th>\n",
       "      <td>78</td>\n",
       "      <td>13</td>\n",
       "    </tr>\n",
       "    <tr>\n",
       "      <th>Ryu</th>\n",
       "      <td>456</td>\n",
       "      <td>9</td>\n",
       "    </tr>\n",
       "    <tr>\n",
       "      <th>Ken</th>\n",
       "      <td>90</td>\n",
       "      <td>16</td>\n",
       "    </tr>\n",
       "    <tr>\n",
       "      <th>Cammy</th>\n",
       "      <td>1000</td>\n",
       "      <td>14</td>\n",
       "    </tr>\n",
       "  </tbody>\n",
       "</table>\n",
       "</div>"
      ],
      "text/plain": [
       "        Cuenta  Intereses\n",
       "Leon       345         10\n",
       "Claire      78         13\n",
       "Ryu        456          9\n",
       "Ken         90         16\n",
       "Cammy     1000         14"
      ]
     },
     "execution_count": 28,
     "metadata": {},
     "output_type": "execute_result"
    }
   ],
   "source": [
    "clientes = pd.DataFrame({'Cuenta':reg, 'Intereses': inter})\n",
    "clientes"
   ]
  },
  {
   "cell_type": "code",
   "execution_count": 29,
   "id": "72d47341-f4a8-4857-84cf-bb1b7e5ad600",
   "metadata": {},
   "outputs": [
    {
     "data": {
      "text/plain": [
       "Index(['Leon', 'Claire', 'Ryu', 'Ken', 'Cammy'], dtype='object')"
      ]
     },
     "execution_count": 29,
     "metadata": {},
     "output_type": "execute_result"
    }
   ],
   "source": [
    "clientes.index"
   ]
  },
  {
   "cell_type": "code",
   "execution_count": 30,
   "id": "5da55c3f-5859-440c-85c0-d43fbdd6da8b",
   "metadata": {},
   "outputs": [
    {
     "data": {
      "text/plain": [
       "Index(['Cuenta', 'Intereses'], dtype='object')"
      ]
     },
     "execution_count": 30,
     "metadata": {},
     "output_type": "execute_result"
    }
   ],
   "source": [
    "clientes.columns"
   ]
  },
  {
   "cell_type": "code",
   "execution_count": 31,
   "id": "ef70328d-ceb2-47f0-8a45-b5af726319c1",
   "metadata": {},
   "outputs": [
    {
     "data": {
      "text/plain": [
       "Leon       345\n",
       "Claire      78\n",
       "Ryu        456\n",
       "Ken         90\n",
       "Cammy     1000\n",
       "Name: Cuenta, dtype: int64"
      ]
     },
     "execution_count": 31,
     "metadata": {},
     "output_type": "execute_result"
    }
   ],
   "source": [
    "clientes['Cuenta']"
   ]
  },
  {
   "cell_type": "markdown",
   "id": "97b46f53-8a83-4ddf-ab35-86d0cec3c940",
   "metadata": {},
   "source": [
    "Dataframe a partir de una serie"
   ]
  },
  {
   "cell_type": "code",
   "execution_count": 32,
   "id": "3b35f24d-5608-477f-8450-9ad39a6dbb70",
   "metadata": {},
   "outputs": [
    {
     "data": {
      "text/html": [
       "<div>\n",
       "<style scoped>\n",
       "    .dataframe tbody tr th:only-of-type {\n",
       "        vertical-align: middle;\n",
       "    }\n",
       "\n",
       "    .dataframe tbody tr th {\n",
       "        vertical-align: top;\n",
       "    }\n",
       "\n",
       "    .dataframe thead th {\n",
       "        text-align: right;\n",
       "    }\n",
       "</style>\n",
       "<table border=\"1\" class=\"dataframe\">\n",
       "  <thead>\n",
       "    <tr style=\"text-align: right;\">\n",
       "      <th></th>\n",
       "      <th>Clientes</th>\n",
       "    </tr>\n",
       "  </thead>\n",
       "  <tbody>\n",
       "    <tr>\n",
       "      <th>Leon</th>\n",
       "      <td>345</td>\n",
       "    </tr>\n",
       "    <tr>\n",
       "      <th>Claire</th>\n",
       "      <td>78</td>\n",
       "    </tr>\n",
       "    <tr>\n",
       "      <th>Ryu</th>\n",
       "      <td>456</td>\n",
       "    </tr>\n",
       "    <tr>\n",
       "      <th>Ken</th>\n",
       "      <td>90</td>\n",
       "    </tr>\n",
       "    <tr>\n",
       "      <th>Cammy</th>\n",
       "      <td>1000</td>\n",
       "    </tr>\n",
       "  </tbody>\n",
       "</table>\n",
       "</div>"
      ],
      "text/plain": [
       "        Clientes\n",
       "Leon         345\n",
       "Claire        78\n",
       "Ryu          456\n",
       "Ken           90\n",
       "Cammy       1000"
      ]
     },
     "execution_count": 32,
     "metadata": {},
     "output_type": "execute_result"
    }
   ],
   "source": [
    "clientes1 = pd.DataFrame(reg, columns=['Clientes'])\n",
    "clientes1"
   ]
  },
  {
   "cell_type": "markdown",
   "id": "31d84b63-0fbe-4bd1-8fad-404b250cd7a3",
   "metadata": {},
   "source": [
    "Dataframes a partir de diccionarios."
   ]
  },
  {
   "cell_type": "code",
   "execution_count": 33,
   "id": "c7251b0e-7224-470d-b253-ec87e7cdbea1",
   "metadata": {},
   "outputs": [
    {
     "data": {
      "text/html": [
       "<div>\n",
       "<style scoped>\n",
       "    .dataframe tbody tr th:only-of-type {\n",
       "        vertical-align: middle;\n",
       "    }\n",
       "\n",
       "    .dataframe tbody tr th {\n",
       "        vertical-align: top;\n",
       "    }\n",
       "\n",
       "    .dataframe thead th {\n",
       "        text-align: right;\n",
       "    }\n",
       "</style>\n",
       "<table border=\"1\" class=\"dataframe\">\n",
       "  <thead>\n",
       "    <tr style=\"text-align: right;\">\n",
       "      <th></th>\n",
       "      <th>a</th>\n",
       "      <th>b</th>\n",
       "    </tr>\n",
       "  </thead>\n",
       "  <tbody>\n",
       "    <tr>\n",
       "      <th>0</th>\n",
       "      <td>0</td>\n",
       "      <td>0</td>\n",
       "    </tr>\n",
       "    <tr>\n",
       "      <th>1</th>\n",
       "      <td>1</td>\n",
       "      <td>2</td>\n",
       "    </tr>\n",
       "    <tr>\n",
       "      <th>2</th>\n",
       "      <td>2</td>\n",
       "      <td>4</td>\n",
       "    </tr>\n",
       "  </tbody>\n",
       "</table>\n",
       "</div>"
      ],
      "text/plain": [
       "   a  b\n",
       "0  0  0\n",
       "1  1  2\n",
       "2  2  4"
      ]
     },
     "execution_count": 33,
     "metadata": {},
     "output_type": "execute_result"
    }
   ],
   "source": [
    "datosIn = [{'a':i, 'b':2*i} for i in range(3)]\n",
    "pd.DataFrame(datosIn)"
   ]
  },
  {
   "cell_type": "code",
   "execution_count": 34,
   "id": "ff825793-6f6e-41f2-b17b-43a2b9466e0a",
   "metadata": {},
   "outputs": [
    {
     "data": {
      "text/html": [
       "<div>\n",
       "<style scoped>\n",
       "    .dataframe tbody tr th:only-of-type {\n",
       "        vertical-align: middle;\n",
       "    }\n",
       "\n",
       "    .dataframe tbody tr th {\n",
       "        vertical-align: top;\n",
       "    }\n",
       "\n",
       "    .dataframe thead th {\n",
       "        text-align: right;\n",
       "    }\n",
       "</style>\n",
       "<table border=\"1\" class=\"dataframe\">\n",
       "  <thead>\n",
       "    <tr style=\"text-align: right;\">\n",
       "      <th></th>\n",
       "      <th>a</th>\n",
       "      <th>b</th>\n",
       "      <th>c</th>\n",
       "    </tr>\n",
       "  </thead>\n",
       "  <tbody>\n",
       "    <tr>\n",
       "      <th>0</th>\n",
       "      <td>3.1416</td>\n",
       "      <td>9.81</td>\n",
       "      <td>NaN</td>\n",
       "    </tr>\n",
       "    <tr>\n",
       "      <th>1</th>\n",
       "      <td>NaN</td>\n",
       "      <td>3.00</td>\n",
       "      <td>4.0</td>\n",
       "    </tr>\n",
       "  </tbody>\n",
       "</table>\n",
       "</div>"
      ],
      "text/plain": [
       "        a     b    c\n",
       "0  3.1416  9.81  NaN\n",
       "1     NaN  3.00  4.0"
      ]
     },
     "execution_count": 34,
     "metadata": {},
     "output_type": "execute_result"
    }
   ],
   "source": [
    "pd.DataFrame([{'a': 3.1416, 'b': 9.81}, {'b': 3, 'c': 4}])"
   ]
  },
  {
   "cell_type": "markdown",
   "id": "96bbce7f-723d-44e5-8185-53cb4cd244c1",
   "metadata": {},
   "source": [
    "Hasta este momento, te habrás dado cuenta que las Series y los Dataframes contienen índices explícitos que nos permiten ubicar y editar nuestros datos. El índice es una estructura por si sola interesante y que pueden identificarse como un arreglo inmutable o como un conjunto ordenado. Estas identificaciones tienen consecuencias interesantes, en términos de operaciones que podemos hacer con `Index`."
   ]
  },
  {
   "cell_type": "code",
   "execution_count": 35,
   "id": "eda01846-6f2b-4076-8678-663c38befd69",
   "metadata": {},
   "outputs": [
    {
     "data": {
      "text/plain": [
       "Index([2, 3, 6, 8, 10], dtype='int64')"
      ]
     },
     "execution_count": 35,
     "metadata": {},
     "output_type": "execute_result"
    }
   ],
   "source": [
    "# Construyendo un objeto Index de una lista de enteros\n",
    "indi = pd.Index([2, 3, 6, 8, 10])\n",
    "indi"
   ]
  },
  {
   "cell_type": "markdown",
   "id": "4e2635a0-22ee-4fcb-a456-98c2af8f122a",
   "metadata": {},
   "source": [
    "Índices como arreglos inmutables"
   ]
  },
  {
   "cell_type": "code",
   "execution_count": 36,
   "id": "8e1ef265-e5fb-48e7-9c99-2e22ef6dc1ee",
   "metadata": {},
   "outputs": [
    {
     "data": {
      "text/plain": [
       "3"
      ]
     },
     "execution_count": 36,
     "metadata": {},
     "output_type": "execute_result"
    }
   ],
   "source": [
    "indi[1]"
   ]
  },
  {
   "cell_type": "code",
   "execution_count": 37,
   "id": "17f3422d-8b89-40c6-a40c-de7ba3b8762a",
   "metadata": {},
   "outputs": [
    {
     "data": {
      "text/plain": [
       "Index([2, 6, 10], dtype='int64')"
      ]
     },
     "execution_count": 37,
     "metadata": {},
     "output_type": "execute_result"
    }
   ],
   "source": [
    "indi[::2]"
   ]
  },
  {
   "cell_type": "code",
   "execution_count": 38,
   "id": "b30cae61-5b7e-439b-a746-49357a33fa92",
   "metadata": {},
   "outputs": [
    {
     "name": "stdout",
     "output_type": "stream",
     "text": [
      "El tamaño de indi es: 5\n"
     ]
    }
   ],
   "source": [
    "print('El tamaño de indi es: {}'.format(indi.size))"
   ]
  },
  {
   "cell_type": "code",
   "execution_count": 39,
   "id": "3fb4e254-cb3b-4400-a73b-b69b6d6e4fff",
   "metadata": {},
   "outputs": [
    {
     "name": "stdout",
     "output_type": "stream",
     "text": [
      "La forma de indi es: (5,)\n"
     ]
    }
   ],
   "source": [
    "print('La forma de indi es: {}'.format(indi.shape))"
   ]
  },
  {
   "cell_type": "code",
   "execution_count": 40,
   "id": "f42d5c98-786f-4a30-bc28-3a7157b4d826",
   "metadata": {},
   "outputs": [
    {
     "name": "stdout",
     "output_type": "stream",
     "text": [
      "El tipo de datos de indi es int64\n"
     ]
    }
   ],
   "source": [
    "print(f'El tipo de datos de indi es {indi.dtype}')"
   ]
  },
  {
   "cell_type": "markdown",
   "id": "17a83c76-0a52-4fdb-9ea3-505a01e0ef0e",
   "metadata": {},
   "source": [
    "Identifica que los índices son inmutables."
   ]
  },
  {
   "cell_type": "code",
   "execution_count": 41,
   "id": "5cb35509-e2b0-46ec-99d6-675ec0e88be7",
   "metadata": {},
   "outputs": [],
   "source": [
    "#indi[1] = 0"
   ]
  },
  {
   "cell_type": "markdown",
   "id": "50b47d61-026e-401e-afcb-2e9a1d4c6a82",
   "metadata": {},
   "source": [
    "Índices como conjunto ordenado"
   ]
  },
  {
   "cell_type": "code",
   "execution_count": 42,
   "id": "d28e085c-6f26-467d-a5b8-e6d4f106b3bd",
   "metadata": {},
   "outputs": [],
   "source": [
    "indiceA = pd.Index([1, 3, 5, 7, 9])\n",
    "indiceB = pd.Index([2, 3, 5, 7, 11])"
   ]
  },
  {
   "cell_type": "code",
   "execution_count": 43,
   "id": "4579bd6d-519e-4ac1-8331-a8cbd336dd39",
   "metadata": {},
   "outputs": [
    {
     "data": {
      "text/plain": [
       "Index([3, 5, 7], dtype='int64')"
      ]
     },
     "execution_count": 43,
     "metadata": {},
     "output_type": "execute_result"
    }
   ],
   "source": [
    "indiceA.intersection(indiceB)"
   ]
  },
  {
   "cell_type": "code",
   "execution_count": 44,
   "id": "7350721e-8ca2-4832-a359-993c17adf437",
   "metadata": {},
   "outputs": [
    {
     "data": {
      "text/plain": [
       "Index([1, 2, 3, 5, 7, 9, 11], dtype='int64')"
      ]
     },
     "execution_count": 44,
     "metadata": {},
     "output_type": "execute_result"
    }
   ],
   "source": [
    "indiceA.union(indiceB)"
   ]
  },
  {
   "cell_type": "code",
   "execution_count": 45,
   "id": "d8f3befb-d496-4c60-8322-0c741c9462ed",
   "metadata": {},
   "outputs": [
    {
     "data": {
      "text/plain": [
       "Index([1, 2, 9, 11], dtype='int64')"
      ]
     },
     "execution_count": 45,
     "metadata": {},
     "output_type": "execute_result"
    }
   ],
   "source": [
    "indiceA.symmetric_difference(indiceB)"
   ]
  },
  {
   "cell_type": "markdown",
   "id": "cc2bf4bf-e5ef-4779-94f6-9a124f7e2bb7",
   "metadata": {},
   "source": [
    "Indexado de datos y selección"
   ]
  },
  {
   "cell_type": "code",
   "execution_count": 46,
   "id": "e43e37be-6f24-4bbf-a9f5-4831cc3ba36c",
   "metadata": {},
   "outputs": [
    {
     "data": {
      "text/plain": [
       "a    1.00\n",
       "b    1.25\n",
       "c    1.50\n",
       "d    1.75\n",
       "e    2.00\n",
       "dtype: float64"
      ]
     },
     "execution_count": 46,
     "metadata": {},
     "output_type": "execute_result"
    }
   ],
   "source": [
    "datos = pd.Series([1.0, 1.25, 1.50, 1.75, 2], index=['a', 'b', 'c', 'd', 'e'])\n",
    "datos"
   ]
  },
  {
   "cell_type": "code",
   "execution_count": 47,
   "id": "f5ce0ad8-c3bf-4b5f-9162-8fd1ff1f9887",
   "metadata": {},
   "outputs": [
    {
     "data": {
      "text/plain": [
       "1.25"
      ]
     },
     "execution_count": 47,
     "metadata": {},
     "output_type": "execute_result"
    }
   ],
   "source": [
    "datos['b']"
   ]
  },
  {
   "cell_type": "code",
   "execution_count": 48,
   "id": "1c678638-de7f-4f74-89e9-23d97b48cd33",
   "metadata": {},
   "outputs": [
    {
     "data": {
      "text/plain": [
       "True"
      ]
     },
     "execution_count": 48,
     "metadata": {},
     "output_type": "execute_result"
    }
   ],
   "source": [
    "'a' in datos"
   ]
  },
  {
   "cell_type": "code",
   "execution_count": 49,
   "id": "7fa5f71b-4f0d-4dda-8609-04483b351c1f",
   "metadata": {},
   "outputs": [
    {
     "data": {
      "text/plain": [
       "False"
      ]
     },
     "execution_count": 49,
     "metadata": {},
     "output_type": "execute_result"
    }
   ],
   "source": [
    "'x' in datos"
   ]
  },
  {
   "cell_type": "code",
   "execution_count": 50,
   "id": "a7f02b7c-2056-49a9-9c77-d12e2449dc03",
   "metadata": {},
   "outputs": [
    {
     "data": {
      "text/plain": [
       "Index(['a', 'b', 'c', 'd', 'e'], dtype='object')"
      ]
     },
     "execution_count": 50,
     "metadata": {},
     "output_type": "execute_result"
    }
   ],
   "source": [
    "datos.keys()"
   ]
  },
  {
   "cell_type": "code",
   "execution_count": 51,
   "id": "2d9c0a49-2d70-4e25-8edb-24721a62e4ac",
   "metadata": {},
   "outputs": [
    {
     "data": {
      "text/plain": [
       "<zip at 0x18db3dff540>"
      ]
     },
     "execution_count": 51,
     "metadata": {},
     "output_type": "execute_result"
    }
   ],
   "source": [
    "datos.items()"
   ]
  },
  {
   "cell_type": "code",
   "execution_count": 52,
   "id": "97b8d764-4968-4930-abb4-cb1bf807edd8",
   "metadata": {},
   "outputs": [
    {
     "data": {
      "text/plain": [
       "[('a', 1.0), ('b', 1.25), ('c', 1.5), ('d', 1.75), ('e', 2.0)]"
      ]
     },
     "execution_count": 52,
     "metadata": {},
     "output_type": "execute_result"
    }
   ],
   "source": [
    "list(datos.items())"
   ]
  },
  {
   "cell_type": "code",
   "execution_count": 53,
   "id": "c7e4c0c3-5004-4b90-bc88-a3a326b45d6c",
   "metadata": {},
   "outputs": [
    {
     "data": {
      "text/plain": [
       "a    1.0000\n",
       "b    1.2500\n",
       "c    1.5000\n",
       "d    1.7500\n",
       "e    3.1416\n",
       "dtype: float64"
      ]
     },
     "execution_count": 53,
     "metadata": {},
     "output_type": "execute_result"
    }
   ],
   "source": [
    "datos['e'] = 3.1416\n",
    "datos"
   ]
  },
  {
   "cell_type": "code",
   "execution_count": 54,
   "id": "abe4dae6-da74-44b4-b674-acecb7c1497a",
   "metadata": {},
   "outputs": [
    {
     "data": {
      "text/plain": [
       "a    1.00\n",
       "b    1.25\n",
       "c    1.50\n",
       "dtype: float64"
      ]
     },
     "execution_count": 54,
     "metadata": {},
     "output_type": "execute_result"
    }
   ],
   "source": [
    "# Slicing con indices explicitos\n",
    "datos['a':'c']"
   ]
  },
  {
   "cell_type": "code",
   "execution_count": 55,
   "id": "9ba4fbc6-c120-49e7-9909-04f27c8f5941",
   "metadata": {},
   "outputs": [
    {
     "data": {
      "text/plain": [
       "a    1.00\n",
       "b    1.25\n",
       "dtype: float64"
      ]
     },
     "execution_count": 55,
     "metadata": {},
     "output_type": "execute_result"
    }
   ],
   "source": [
    "# Slicing con indices implicitos enteros\n",
    "datos[0:2]"
   ]
  },
  {
   "cell_type": "code",
   "execution_count": 56,
   "id": "bd9094dc-5a01-4e3c-85ae-f0597af1ce22",
   "metadata": {},
   "outputs": [
    {
     "data": {
      "text/plain": [
       "b    1.25\n",
       "c    1.50\n",
       "dtype: float64"
      ]
     },
     "execution_count": 56,
     "metadata": {},
     "output_type": "execute_result"
    }
   ],
   "source": [
    "# Enmascarando\n",
    "datos[(datos > 1.1) & (datos < 1.70)]"
   ]
  },
  {
   "cell_type": "markdown",
   "id": "27195170-76e0-40a5-ac78-0ef9ea35b249",
   "metadata": {},
   "source": [
    "Identifica que cuando el slicing con índices explícitos (e.g. datos['a':'c']), el índice final se incluye en la selección, mientras que el slicing con índice implicito (e.g. datos[0:2], el índice final es excluido de la selección."
   ]
  },
  {
   "cell_type": "markdown",
   "id": "c665ee08-e6b5-4ea7-bcaf-84392d5bb89c",
   "metadata": {},
   "source": [
    "El atributo `loc` te permite indexar y el slicing de la manera explícita, es decir, **cuando usamos la etiqueta del índice**."
   ]
  },
  {
   "cell_type": "code",
   "execution_count": 57,
   "id": "b1cf96ec-d1f0-4a96-8ae2-84a91a6e8c4b",
   "metadata": {},
   "outputs": [
    {
     "data": {
      "text/plain": [
       "1.5"
      ]
     },
     "execution_count": 57,
     "metadata": {},
     "output_type": "execute_result"
    }
   ],
   "source": [
    "datos.loc['c']"
   ]
  },
  {
   "cell_type": "markdown",
   "id": "fc42e2e8-f7e1-46b6-96bc-f884a570bc6e",
   "metadata": {},
   "source": [
    "El atributo `iloc` te permite indexar y el slicing de la manera implícita, es decir, **cuando usamos la etiqueta del índice**."
   ]
  },
  {
   "cell_type": "code",
   "execution_count": 58,
   "id": "83623d78-3c95-4952-b435-e8d58b285861",
   "metadata": {},
   "outputs": [
    {
     "data": {
      "text/plain": [
       "1.5"
      ]
     },
     "execution_count": 58,
     "metadata": {},
     "output_type": "execute_result"
    }
   ],
   "source": [
    "datos.iloc[2]"
   ]
  },
  {
   "cell_type": "markdown",
   "id": "0eb8f0b0-35eb-40b0-8d14-6117aec94bd5",
   "metadata": {},
   "source": [
    "Recuerda que una de las reglas del Zen de Python recomienda que lo explícito es mejor que lo implícito. La naturaleza de lo explícito de `loc` y `iloc` es muy útil para mantener limpio y entendible nuestro código, especialmente en el caso de índices enteros, usándolos de manera consistente para prevenir errores debidos a mezclar la convención de indexado/slicing."
   ]
  }
 ],
 "metadata": {
  "kernelspec": {
   "display_name": "Python 3 (ipykernel)",
   "language": "python",
   "name": "python3"
  },
  "language_info": {
   "codemirror_mode": {
    "name": "ipython",
    "version": 3
   },
   "file_extension": ".py",
   "mimetype": "text/x-python",
   "name": "python",
   "nbconvert_exporter": "python",
   "pygments_lexer": "ipython3",
   "version": "3.12.4"
  }
 },
 "nbformat": 4,
 "nbformat_minor": 5
}
