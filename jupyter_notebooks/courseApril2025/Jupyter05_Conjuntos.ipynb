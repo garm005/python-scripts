{
 "cells": [
  {
   "cell_type": "markdown",
   "metadata": {
    "id": "BSqtxWnxHLTQ"
   },
   "source": [
    "# Conjuntos (sets)\n",
    "\n",
    "---------------------------\n",
    "\n",
    "Un conjunto es una estructura de datos en la cual no pueden existir dos elementos iguales y los elementos no tienen ningún orden; por ello, no se consideran una secuencia ordenada de datos. Al no guardar un orden sus elementos, la indexación o el acceso a ellos mediante una posición no es posible.\n",
    "\n",
    "Un **set** se crea usando como delimitadores los corchetes ({}) o usando la función `set()`.\n",
    "\n",
    "Un conjunto no puede incluir listas o dicionarios, ya que estos tipos de datos son considerables como editable o \"mutables\"\n",
    "\n",
    "### Referencia\n",
    "[Estructuras de Datos](https://docs.python.org/3/tutorial/datastructures.html)<br>\n",
    "[Conjuntos](https://docs.python.org/3/library/stdtypes.html#set-types-set-frozenset)"
   ]
  },
  {
   "cell_type": "code",
   "execution_count": 4,
   "metadata": {
    "colab": {
     "base_uri": "https://localhost:8080/"
    },
    "id": "GqM4Jtzs9DkD",
    "outputId": "a8e4824a-09bf-46b1-f11b-def8aba53360"
   },
   "outputs": [
    {
     "name": "stdout",
     "output_type": "stream",
     "text": [
      "{16, 25, 10, 11}\n"
     ]
    },
    {
     "data": {
      "text/plain": [
       "set"
      ]
     },
     "execution_count": 4,
     "metadata": {},
     "output_type": "execute_result"
    }
   ],
   "source": [
    "# Creando un conjunto usando corchetes\n",
    "pctes = {25, 10, 25, 16, 11, 16}\n",
    "print(pctes)\n",
    "type(pctes)"
   ]
  },
  {
   "cell_type": "code",
   "execution_count": 11,
   "metadata": {
    "colab": {
     "base_uri": "https://localhost:8080/"
    },
    "id": "Ey4pOEmbCTV2",
    "outputId": "e2047899-2cc9-4c02-913a-0bc9276eed64"
   },
   "outputs": [
    {
     "name": "stdout",
     "output_type": "stream",
     "text": [
      "{'d', 'a', 'c', 'b', 'r'}\n"
     ]
    }
   ],
   "source": [
    "test_0 = set('abracadabra')\n",
    "print(test_0)"
   ]
  },
  {
   "cell_type": "code",
   "execution_count": 5,
   "metadata": {
    "colab": {
     "base_uri": "https://localhost:8080/"
    },
    "id": "BR5vWbIJ91vl",
    "outputId": "de8b07df-bc0a-4c9d-c463-b0e06c307e5f"
   },
   "outputs": [
    {
     "name": "stdout",
     "output_type": "stream",
     "text": [
      "{False, True, 3.1416, (23, 45), 'Gabriel'}\n"
     ]
    }
   ],
   "source": [
    "# Un conjunto puede tener elementos de diferentes tipos de dato, pero deben de\n",
    "# ser inmutables\n",
    "con = set([True, 3.1416, True, False, 'Gabriel', (23, 45)])\n",
    "print(con)"
   ]
  },
  {
   "cell_type": "code",
   "execution_count": 7,
   "metadata": {
    "id": "DAkp1vOW-aW9"
   },
   "outputs": [],
   "source": [
    "# Los conjuntos no pueden tener listas o diccionarios, por ejemplo al incluir\n",
    "# una lista obtendremos un error del tipo unhashable type\n",
    "#test = {[16, 25, 16]}"
   ]
  },
  {
   "cell_type": "code",
   "execution_count": 8,
   "metadata": {
    "colab": {
     "base_uri": "https://localhost:8080/"
    },
    "id": "wbJVFV1MBP1e",
    "outputId": "87f974ca-dd6a-477d-b3ca-f506913b19a5"
   },
   "outputs": [
    {
     "name": "stdout",
     "output_type": "stream",
     "text": [
      "{'a', 'b'}\n"
     ]
    }
   ],
   "source": [
    "# Sin embargo si podemos utilizar la función set() para convertir una lista o diccionario en conjunto\n",
    "prueba = set({'a':1, 'b':2})\n",
    "print(prueba)"
   ]
  },
  {
   "cell_type": "code",
   "execution_count": 9,
   "metadata": {
    "colab": {
     "base_uri": "https://localhost:8080/"
    },
    "id": "jAWLmr__BjLY",
    "outputId": "8764d594-2742-4798-f404-97c797403d34"
   },
   "outputs": [
    {
     "name": "stdout",
     "output_type": "stream",
     "text": [
      "{1, 2, 3}\n"
     ]
    }
   ],
   "source": [
    "prueba2 = set([1, 2, 3, 1, 2])\n",
    "print(prueba2)"
   ]
  },
  {
   "cell_type": "code",
   "execution_count": 28,
   "metadata": {
    "colab": {
     "base_uri": "https://localhost:8080/"
    },
    "id": "JlfqJvPQDSip",
    "outputId": "df52f4c2-fb86-4772-a875-1fe6e871c8a7"
   },
   "outputs": [
    {
     "name": "stdout",
     "output_type": "stream",
     "text": [
      "{2, 10, 11, 16, 25}\n",
      "{2, 10, 11, 16, 25, 30}\n"
     ]
    }
   ],
   "source": [
    "# Ya que a los conjuntos les podemos agregar o quitar elementos, la estructura\n",
    "# de dato se considera como mutable, para agregar elementos, por ejemplo usamos:\n",
    "pctes = {25, 10, 25, 16, 11, 16}\n",
    "pctes.add(2)\n",
    "print(pctes)\n",
    "\n",
    "pctes.add(30)\n",
    "print(pctes)"
   ]
  },
  {
   "cell_type": "code",
   "execution_count": 31,
   "metadata": {
    "colab": {
     "base_uri": "https://localhost:8080/"
    },
    "id": "h2r4rJOiEC6_",
    "outputId": "05e09f2c-7f93-40d5-a921-1f48dbad5fbb"
   },
   "outputs": [
    {
     "name": "stdout",
     "output_type": "stream",
     "text": [
      "{2, 10, 11, 16, 25}\n"
     ]
    }
   ],
   "source": [
    "# Para remover un elemento, podemos usar el metodo discard, pero si el elemento no se encuentra no avisará que dicho elemento no se encuentra\n",
    "pctes.discard(30)\n",
    "print(pctes)"
   ]
  },
  {
   "cell_type": "code",
   "execution_count": 27,
   "metadata": {
    "colab": {
     "base_uri": "https://localhost:8080/",
     "height": 211
    },
    "id": "468HI5ptFDso",
    "outputId": "f68fd0ed-18e6-4caa-b3e9-2cbbafab1643"
   },
   "outputs": [
    {
     "ename": "KeyError",
     "evalue": "12",
     "output_type": "error",
     "traceback": [
      "\u001b[0;31m---------------------------------------------------------------------------\u001b[0m",
      "\u001b[0;31mKeyError\u001b[0m                                  Traceback (most recent call last)",
      "\u001b[0;32m<ipython-input-27-9018519f708e>\u001b[0m in \u001b[0;36m<cell line: 0>\u001b[0;34m()\u001b[0m\n\u001b[1;32m      1\u001b[0m \u001b[0;31m# Podemos usar el metodo remove, pero si el elemento no se encuentra lanza un error de KeyError\u001b[0m\u001b[0;34m\u001b[0m\u001b[0;34m\u001b[0m\u001b[0m\n\u001b[1;32m      2\u001b[0m \u001b[0mpctes\u001b[0m \u001b[0;34m=\u001b[0m \u001b[0;34m{\u001b[0m\u001b[0;36m25\u001b[0m\u001b[0;34m,\u001b[0m \u001b[0;36m10\u001b[0m\u001b[0;34m,\u001b[0m \u001b[0;36m25\u001b[0m\u001b[0;34m,\u001b[0m \u001b[0;36m16\u001b[0m\u001b[0;34m,\u001b[0m \u001b[0;36m11\u001b[0m\u001b[0;34m,\u001b[0m \u001b[0;36m16\u001b[0m\u001b[0;34m}\u001b[0m\u001b[0;34m\u001b[0m\u001b[0;34m\u001b[0m\u001b[0m\n\u001b[0;32m----> 3\u001b[0;31m \u001b[0mpctes\u001b[0m\u001b[0;34m.\u001b[0m\u001b[0mremove\u001b[0m\u001b[0;34m(\u001b[0m\u001b[0;36m12\u001b[0m\u001b[0;34m)\u001b[0m\u001b[0;34m\u001b[0m\u001b[0;34m\u001b[0m\u001b[0m\n\u001b[0m\u001b[1;32m      4\u001b[0m \u001b[0mprint\u001b[0m\u001b[0;34m(\u001b[0m\u001b[0mpctes\u001b[0m\u001b[0;34m)\u001b[0m\u001b[0;34m\u001b[0m\u001b[0;34m\u001b[0m\u001b[0m\n",
      "\u001b[0;31mKeyError\u001b[0m: 12"
     ]
    }
   ],
   "source": [
    "# Podemos usar el metodo remove, pero si el elemento no se encuentra lanza un error de KeyError\n",
    "pctes = {25, 10, 25, 16, 11, 16}\n",
    "pctes.remove(12)\n",
    "print(pctes)"
   ]
  },
  {
   "cell_type": "code",
   "execution_count": 35,
   "metadata": {
    "colab": {
     "base_uri": "https://localhost:8080/"
    },
    "id": "o-fvCj1qHGzb",
    "outputId": "6d904fe8-2d2a-4b1c-80c2-1fa8a00a997c"
   },
   "outputs": [
    {
     "name": "stdout",
     "output_type": "stream",
     "text": [
      "set()\n"
     ]
    }
   ],
   "source": [
    "# Si deseamos borrar todos los elementos de un conjunto, usamos el método clear:\n",
    "pctes.clear()\n",
    "print(pctes)"
   ]
  },
  {
   "cell_type": "code",
   "execution_count": 32,
   "metadata": {
    "colab": {
     "base_uri": "https://localhost:8080/"
    },
    "id": "C_IZGtu-GRta",
    "outputId": "7f2cecbe-624a-447c-c6f6-474e76749939"
   },
   "outputs": [
    {
     "name": "stdout",
     "output_type": "stream",
     "text": [
      "True\n",
      "False\n"
     ]
    }
   ],
   "source": [
    "# Para conocer si un elemento se encuentra en el conjunto usamos la funcion in. Por ejemplo:\n",
    "pctes = {25, 10, 25, 16, 11, 16}\n",
    "print(10 in pctes)\n",
    "print(12 in pctes)"
   ]
  },
  {
   "cell_type": "code",
   "execution_count": 34,
   "metadata": {
    "colab": {
     "base_uri": "https://localhost:8080/"
    },
    "id": "_nNRgwLwGhia",
    "outputId": "9136eb02-5cff-49bc-9891-d9d24cd71f91"
   },
   "outputs": [
    {
     "name": "stdout",
     "output_type": "stream",
     "text": [
      "False\n",
      "True\n"
     ]
    }
   ],
   "source": [
    "# Para verificar que un elemento NO se encuentra dentro del conjunto usamos la funcion not. Si el elemento NO se encuentra obtendremos True:\n",
    "pctes = {25, 10, 25, 16, 11, 16}\n",
    "print(10 not in pctes)\n",
    "print(12 not in pctes)"
   ]
  },
  {
   "cell_type": "code",
   "execution_count": 48,
   "metadata": {
    "colab": {
     "base_uri": "https://localhost:8080/"
    },
    "id": "HetSfkgOHh6S",
    "outputId": "675a907a-2de1-48f6-c75c-938e71998183"
   },
   "outputs": [
    {
     "name": "stdout",
     "output_type": "stream",
     "text": [
      "Conjunto pares: {8, 2, 4, 6}\n",
      "Conjunto impares: {1, 3, 5, 7, 9}\n",
      "Los conjuntos son disconexos?: True\n",
      "Los conjuntos son disconexos?: False\n"
     ]
    }
   ],
   "source": [
    "# Si deseamos verificar si dos conjuntos tienen elementos en comun, usamos el metodo isdisjoint. Obtendremos True cuando no hay algun elemento en comun en los 2 conjuntos.\n",
    "# En la teoria de conjuntos, es como si hicieramos la interseccion y obtenemos un conjunto vacio\n",
    "pares = {2, 4, 6, 8}\n",
    "print('Conjunto pares:', pares)\n",
    "\n",
    "impares = {1, 3, 5, 7, 9}\n",
    "print('Conjunto impares:', impares)\n",
    "\n",
    "answer = pares.isdisjoint(impares)\n",
    "print('Los conjuntos son disconexos?:', answer )\n",
    "\n",
    "secuen = {1, 2, 3}\n",
    "answer = impares.isdisjoint(secuen)\n",
    "print('Los conjuntos son disconexos?:', answer )\n",
    "# No son disconexos, ya que comparten los elementos 1 y 3"
   ]
  },
  {
   "cell_type": "code",
   "execution_count": 50,
   "metadata": {
    "colab": {
     "base_uri": "https://localhost:8080/"
    },
    "id": "vgmGWb-xKz-f",
    "outputId": "10743e52-f372-46b5-b5a2-fc81d0b00e30"
   },
   "outputs": [
    {
     "name": "stdout",
     "output_type": "stream",
     "text": [
      "s1 es subconjunto de s2?: True\n",
      "s1 es subconjunto de s2?: True\n"
     ]
    }
   ],
   "source": [
    "# Para identificar si un conjunto es subconjunto de otro, es decir, todos los elementos de un conjunto son tambien elementos de\n",
    "# otro subconjunto, podemos usar el operador <= o también el método issubset(). Identifica que cuando usamos un metodo\n",
    "# debemos indicar como cualquier tipo de dato iterable, como lo son las tuplas  y listas.\n",
    "s1 = {2, 4}\n",
    "s2 = {2, 4, 6, 8}\n",
    "answer = s1 <= s2\n",
    "print('s1 es subconjunto de s2?:', answer)\n",
    "\n",
    "answer = s1.issubset(s2)\n",
    "print('s1 es subconjunto de s2?:', answer)"
   ]
  },
  {
   "cell_type": "code",
   "execution_count": null,
   "metadata": {
    "id": "rtKzygUEM1ul"
   },
   "outputs": [],
   "source": [
    "# Para identificar si un conjunto es superconjunto de otro,\n",
    "# podemos usar el operador >= o también el método issuperset().\n",
    "s1 = {2, 4}\n",
    "s2 = {2, 4, 6, 8}\n",
    "answer = s1 <= s2\n",
    "print('s1 es subconjunto de s2?:', answer)\n",
    "\n",
    "answer = s1.issubset(s2)\n",
    "print('s1 es subconjunto de s2?:', answer)"
   ]
  },
  {
   "cell_type": "code",
   "execution_count": 54,
   "metadata": {
    "colab": {
     "base_uri": "https://localhost:8080/"
    },
    "id": "f6Xi4TwMOVbl",
    "outputId": "5a6aa541-5283-455e-8dc1-03fc277b1ff3"
   },
   "outputs": [
    {
     "name": "stdout",
     "output_type": "stream",
     "text": [
      "{'Donkey', 'Peach', 'Yoshi', 'Dixie', 'Toad', 'Mario', 'Luigi'}\n",
      "{'Donkey', 'Peach', 'Yoshi', 'Dixie', 'Toad', 'Mario', 'Luigi'}\n",
      "{'Donkey', 'Peach', 'Yoshi', 'Dixie', 'Toad', 'Mario', 'Luigi'}\n"
     ]
    }
   ],
   "source": [
    "team_a = {'Peach', 'Mario', 'Luigi', 'Toad'}\n",
    "team_b = {'Yoshi', 'Toad', 'Peach', 'Donkey'}\n",
    "team_c = {'Mario', 'Yoshi', 'Peach', 'Dixie'}\n",
    "\n",
    "# Union\n",
    "all_characters = team_a | team_b | team_c\n",
    "print(all_characters)\n",
    "\n",
    "all_characters = team_a.union(team_b, team_c)\n",
    "print(all_characters)\n",
    "\n",
    "all_characters = team_a.union(team_b).union(team_c)\n",
    "print(all_characters)"
   ]
  },
  {
   "cell_type": "code",
   "execution_count": 57,
   "metadata": {
    "colab": {
     "base_uri": "https://localhost:8080/"
    },
    "id": "wSdGxFW1RXnb",
    "outputId": "552d4a14-6835-488e-fced-650859f14fb7"
   },
   "outputs": [
    {
     "name": "stdout",
     "output_type": "stream",
     "text": [
      "{'Toad', 'Peach'}\n",
      "{'Toad', 'Peach'}\n",
      "{'Mario', 'Peach'}\n",
      "{'Yoshi', 'Peach'}\n",
      "{'Peach'}\n"
     ]
    }
   ],
   "source": [
    "# Intersección\n",
    "a_y_b = team_a & team_b\n",
    "print(a_y_b)\n",
    "\n",
    "a_y_b = team_a.intersection(team_b)\n",
    "print(a_y_b)\n",
    "\n",
    "a_y_c = team_a.intersection(team_c)\n",
    "print(a_y_c)\n",
    "\n",
    "b_y_c = team_b & team_c\n",
    "print(b_y_c)\n",
    "\n",
    "char_common = team_a & team_b & team_c\n",
    "print(char_common)"
   ]
  },
  {
   "cell_type": "code",
   "execution_count": 60,
   "metadata": {
    "colab": {
     "base_uri": "https://localhost:8080/"
    },
    "id": "kiz0VOqHSwRS",
    "outputId": "fd5cd0b7-7889-4dd9-d89e-480c48f188da"
   },
   "outputs": [
    {
     "name": "stdout",
     "output_type": "stream",
     "text": [
      "{'Mario', 'Luigi'}\n",
      "{'Donkey', 'Yoshi'}\n"
     ]
    }
   ],
   "source": [
    "# Diferencia. El resultado es un conjunto con los elementos del primer conjunto que no se\n",
    "# encuentran en ninguno de los otros conjuntos.\n",
    "team_a = {'Peach', 'Mario', 'Luigi', 'Toad'}\n",
    "team_b = {'Yoshi', 'Toad', 'Peach', 'Donkey'}\n",
    "team_c = {'Mario', 'Yoshi', 'Peach', 'Dixie'}\n",
    "a_menos_b = team_a - team_b\n",
    "print(a_menos_b)\n",
    "\n",
    "b_menos_a = team_b.difference(team_a)\n",
    "print(b_menos_a)"
   ]
  },
  {
   "cell_type": "code",
   "execution_count": 63,
   "metadata": {
    "colab": {
     "base_uri": "https://localhost:8080/"
    },
    "id": "if3UkYXQUxDB",
    "outputId": "3bd13f53-5ecf-4019-b6c4-6fca6c6a9509"
   },
   "outputs": [
    {
     "name": "stdout",
     "output_type": "stream",
     "text": [
      "{'Donkey', 'Yoshi', 'Mario', 'Luigi'}\n",
      "{'Yoshi', 'Dixie', 'Toad', 'Luigi'}\n",
      "{'Donkey', 'Dixie', 'Toad', 'Mario'}\n"
     ]
    }
   ],
   "source": [
    "# Diferencia simetrica. Genera un nuevo conjunto conlos elementos no comunes al conjunto1\n",
    "# y conjunto 2\n",
    "\n",
    "dif_sim_ab = team_a.symmetric_difference(team_b)\n",
    "print(dif_sim_ab)\n",
    "\n",
    "dif_sim_ac = team_a.symmetric_difference(team_c)\n",
    "print(dif_sim_ac)\n",
    "\n",
    "dif_sim_bc = team_b ^ team_c\n",
    "print(dif_sim_bc)"
   ]
  },
  {
   "cell_type": "code",
   "execution_count": 65,
   "metadata": {
    "colab": {
     "base_uri": "https://localhost:8080/"
    },
    "id": "8dd5On6xVqka",
    "outputId": "a23ff239-7fb2-4e71-8730-29f62b97d01a"
   },
   "outputs": [
    {
     "name": "stdout",
     "output_type": "stream",
     "text": [
      "Donkey en team: b\n",
      "Peach en teams: a-b-c\n",
      "Yoshi en teams: b-c\n",
      "Dixie en team: c\n",
      "Toad en teams: a-b\n",
      "Mario en teams: a-c\n",
      "Luigi en team: a\n"
     ]
    }
   ],
   "source": [
    "for character in all_characters:\n",
    "    # Creando una lista vacia\n",
    "    in_team = []\n",
    "    for ID, team in zip('abc', [team_a, team_b, team_c]):\n",
    "        if character in team:\n",
    "            in_team.append(ID)\n",
    "    label_team = '-'.join(in_team)\n",
    "    p = 's' if len(in_team) > 1 else ''\n",
    "    print(f'{character} en team{p}: {label_team}')"
   ]
  },
  {
   "cell_type": "code",
   "execution_count": 69,
   "metadata": {
    "colab": {
     "base_uri": "https://localhost:8080/"
    },
    "id": "JWkMmaoRXzjr",
    "outputId": "e83464b6-0198-4afb-f167-93f9ea753bcd"
   },
   "outputs": [
    {
     "name": "stdout",
     "output_type": "stream",
     "text": [
      "[('a', {'Toad', 'Mario', 'Peach', 'Luigi'}), ('b', {'Donkey', 'Yoshi', 'Toad', 'Peach'}), ('c', {'Yoshi', 'Dixie', 'Mario', 'Peach'})]\n"
     ]
    }
   ],
   "source": [
    "print(list(zip('abc', [team_a, team_b, team_c])))"
   ]
  }
 ],
 "metadata": {
  "colab": {
   "provenance": []
  },
  "kernelspec": {
   "display_name": "Python 3 (ipykernel)",
   "language": "python",
   "name": "python3"
  },
  "language_info": {
   "codemirror_mode": {
    "name": "ipython",
    "version": 3
   },
   "file_extension": ".py",
   "mimetype": "text/x-python",
   "name": "python",
   "nbconvert_exporter": "python",
   "pygments_lexer": "ipython3",
   "version": "3.12.4"
  }
 },
 "nbformat": 4,
 "nbformat_minor": 4
}
